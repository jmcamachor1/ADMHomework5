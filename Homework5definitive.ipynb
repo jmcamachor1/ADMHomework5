{
 "cells": [
  {
   "cell_type": "code",
   "execution_count": 1,
   "metadata": {
    "collapsed": true
   },
   "outputs": [],
   "source": [
    "#import libraries\n",
    "from collections import defaultdict , Counter ,OrderedDict, deque\n",
    "import json\n",
    "import gzip\n",
    "import networkx as nx\n",
    "from tqdm import tqdm_notebook as tqdm\n",
    "from collections import deque, defaultdict\n",
    "from tqdm import tqdm_notebook as tqdm\n",
    "import gzip\n",
    "import functools\n",
    "import json\n",
    "from functions_used_1 import *\n",
    "import time"
   ]
  },
  {
   "cell_type": "markdown",
   "metadata": {},
   "source": [
    "## Research question 1"
   ]
  },
  {
   "cell_type": "markdown",
   "metadata": {},
   "source": [
    "From [Wikicat hyperlink graph](https://drive.google.com/file/d/1ghPJ4g6XMCUDFQ2JPqAVveLyytG8gBfL/view), it is downloaded a file which contains a reduced version of the Wikipedia graph of the one found SNAP. In this file, every row is equivalent to a node and the two elements are the nodes source (first) and destination(second). Using this information, it will be built the graph $G=(V,E)$, where $V$ is the set of articles and $E$ the hyperlinks among them. In addition, it will be provided the following information about the graph:\n",
    "\n",
    "* The number of nodes\n",
    "* The number of edges\n",
    "* The graph is directed or undirected\n",
    "* The graph is dense or sparse\n",
    "* The average node degree\n",
    "\n",
    "\n",
    "First, it is computed the number of nodes of $G$."
   ]
  },
  {
   "cell_type": "code",
   "execution_count": 2,
   "metadata": {
    "collapsed": true
   },
   "outputs": [],
   "source": [
    "#read reduced Wikipedia graph file\n",
    "op = open('wiki-topcats-reduced.txt', 'r', encoding=\"utf-8\")\n",
    "GVE= (op.read())\n",
    "op.close()"
   ]
  },
  {
   "cell_type": "code",
   "execution_count": 3,
   "metadata": {},
   "outputs": [
    {
     "name": "stdout",
     "output_type": "stream",
     "text": [
      "The number of nodes is 461193.\n"
     ]
    }
   ],
   "source": [
    "#set with all the nodes\n",
    "V=set(GVE.split()) \n",
    "print(\"The number of nodes is \"+str(len(V))+\".\")"
   ]
  },
  {
   "cell_type": "markdown",
   "metadata": {},
   "source": [
    "Below, it is computed the number of edges:"
   ]
  },
  {
   "cell_type": "code",
   "execution_count": 4,
   "metadata": {},
   "outputs": [
    {
     "name": "stdout",
     "output_type": "stream",
     "text": [
      "The number of edges is 2645247.\n"
     ]
    }
   ],
   "source": [
    "a=GVE.split()\n",
    "E=([a[i]+\" \"+a[i+1] for i in range(0,len(a),2)])\n",
    "print(\"The number of edges is \" +str(len(E))+\".\")"
   ]
  },
  {
   "cell_type": "markdown",
   "metadata": {},
   "source": [
    "Then, the graph $G$ is composed by the sets $V$ and $E$ already computed.\n",
    "\n",
    "In order to see if $G$ is directed or undirected, it is computed the adjacency list of the graph, $Adj$. The adjacency list by definition is an array(in our case it will be created a dictionary) of $|V|$ lists that for each vertex $u\\in V$, $Adj[u]$ contains all the vertices $v$ such that there is an edge $(u,v)\\in E$."
   ]
  },
  {
   "cell_type": "code",
   "execution_count": 5,
   "metadata": {
    "collapsed": true
   },
   "outputs": [],
   "source": [
    "#creation of the adjacency list using default dictionary\n",
    "m=defaultdict(list)\n",
    "for i,j in zip(*[iter(GVE.split())]*2):\n",
    "       m[int(i)]+=[int(j)]"
   ]
  },
  {
   "cell_type": "markdown",
   "metadata": {},
   "source": [
    "Below, it is computed the sum of the lengths of all adjacency lists because the graph is directed if the sum is equal to $|E|$ and undirected if the sum is equal to $2|E|$.\n"
   ]
  },
  {
   "cell_type": "code",
   "execution_count": 6,
   "metadata": {},
   "outputs": [
    {
     "data": {
      "text/plain": [
       "2645247"
      ]
     },
     "execution_count": 6,
     "metadata": {},
     "output_type": "execute_result"
    }
   ],
   "source": [
    "#dictionary :key:value->node:length of adjacency list\n",
    "length_adj= {k:len(v) for k, v in m.items()}\n",
    "#sum of all the lengths of the lists\n",
    "sum(list(length_adj.values())) "
   ]
  },
  {
   "cell_type": "markdown",
   "metadata": {},
   "source": [
    "As the sum of the lenghts of all adjacency lists is equal to $|E|$, the graph is directed.\n",
    "\n",
    "It is possible to know if the graph is dense or sparse comparing the values of $|V|^2$ and $|E|$. Below are computed these two values:"
   ]
  },
  {
   "cell_type": "code",
   "execution_count": 7,
   "metadata": {},
   "outputs": [
    {
     "name": "stdout",
     "output_type": "stream",
     "text": [
      "The cardinality of the set of edges is 2645247.\n",
      "The cardinality of the set of nodes power 2 is 212698983249.\n"
     ]
    }
   ],
   "source": [
    "print(\"The cardinality of the set of edges is \"+str(len(E))+\".\")\n",
    "print(\"The cardinality of the set of nodes power 2 is \"+str(len(V)**2)+\".\")"
   ]
  },
  {
   "cell_type": "markdown",
   "metadata": {},
   "source": [
    "Due to the fact that $|E|<<|V|^2$, the graph $G$ is sparse.\n",
    "\n",
    "Below, it is computed the average node degree which is the average number of edges that a node is incident with. This is obtained in this case with the formula $\\frac{|E|}{|V|}$. "
   ]
  },
  {
   "cell_type": "code",
   "execution_count": 8,
   "metadata": {},
   "outputs": [
    {
     "name": "stdout",
     "output_type": "stream",
     "text": [
      "The average node degree is 5.735661642739591.\n"
     ]
    }
   ],
   "source": [
    "print('The average node degree is '+str(len(E)/len(V))+\".\")"
   ]
  },
  {
   "cell_type": "markdown",
   "metadata": {},
   "source": [
    "## Research question 2"
   ]
  },
  {
   "cell_type": "markdown",
   "metadata": {},
   "source": [
    "In this section, it is used the file <code>wiki-topcats-categories.txt.gz</code> where the articles are grouped by categories. "
   ]
  },
  {
   "cell_type": "code",
   "execution_count": 9,
   "metadata": {
    "collapsed": true
   },
   "outputs": [],
   "source": [
    "#reading categories files\n",
    "with gzip.open('wiki-topcats-categories.txt.gz') as f:\n",
    "    categories_file = f.read()"
   ]
  },
  {
   "cell_type": "markdown",
   "metadata": {},
   "source": [
    "Then, it is created a dictionary where the keys are each one of the categories and the values a list with the articles belonging to the category indicated by the key."
   ]
  },
  {
   "cell_type": "code",
   "execution_count": 10,
   "metadata": {
    "collapsed": true
   },
   "outputs": [],
   "source": [
    "#dictionary with all categories and all the articles that belong \n",
    "category_dict=defaultdict(list)\n",
    "for i in categories_file.split():\n",
    "    if i.isdigit()==False: \n",
    "        key=str(i)[11:-2]\n",
    "    else:\n",
    "        category_dict[key]+=[int(i)]"
   ]
  },
  {
   "cell_type": "markdown",
   "metadata": {},
   "source": [
    "It will be just considered the categories that has a number of articles greater than 3500."
   ]
  },
  {
   "cell_type": "code",
   "execution_count": 11,
   "metadata": {
    "collapsed": true
   },
   "outputs": [],
   "source": [
    "#dictionary with categories with more than 3500 elements\n",
    "category_dict_1= {k:(v) for k, v in category_dict.items() if len(v)>3500}"
   ]
  },
  {
   "cell_type": "code",
   "execution_count": 12,
   "metadata": {},
   "outputs": [
    {
     "name": "stdout",
     "output_type": "stream",
     "text": [
      "In fact, it is considered 35 categories.\n"
     ]
    }
   ],
   "source": [
    "print('In fact, it is considered '+str(len(category_dict_1))+\" categories.\" )"
   ]
  },
  {
   "cell_type": "markdown",
   "metadata": {},
   "source": [
    "Then, from the previous dictionary it is just taken into account the elements which are in the reduced version of the graph provided for the homework."
   ]
  },
  {
   "cell_type": "code",
   "execution_count": 13,
   "metadata": {
    "collapsed": true
   },
   "outputs": [],
   "source": [
    "#creation of dictionary with categories with more than 3500 elements and whose elements are in the reduced graph\n",
    "A=set(list(map(int,list(V))))\n",
    "category_dict_2={k:A.intersection(v) for k,v  in category_dict_1.items()}"
   ]
  },
  {
   "cell_type": "markdown",
   "metadata": {},
   "source": [
    "Then, given an input category $C_0$, with the aim of ordering the categories it is built a block ranking: \n",
    "\\begin{equation}\n",
    "block_{RANKING} =\\begin{bmatrix} C_0 \\\\ C_1 \\\\ \\dots \\\\ C_c\\\\ \\end{bmatrix}\n",
    "\\end{equation}\n",
    "where each $C_i$ is a category which contains a list of nodes.\n",
    "\n",
    "The first category of the rank $C_0$, always corresponds to the input category. The order of the remaining categories is given by:\n",
    "\n",
    "\\begin{equation}\n",
    "distance(C_0, C_i) = median(ShortestPath(C_0, C_i))\n",
    "\\end{equation}\n",
    "\n",
    "The lower is the distance from $C_0$, the higher is $C_i$ in the rank. $ShortestPath(C_0, C_i)$ is the set of all the possible shortest paths between the nodes of $C_0$ and $C_i$. For this case, it is considered the length of a path as the sum of the edges it is composed by.\n",
    "\n",
    "In order to compute the shortest path, it is used the Breadth-First Search (BFS) due to the fact that the solutions obtained with the BFS are optimal because of the theorem of Correctness of Breadth-First search. As $|E|$ and $|V|$ are very high, in order to compute the median of the set of shortest paths between the elements of categories $C_i$ and $C_0$, it will be used the following stategy:\n",
    "\n",
    "* It is calculated the distances from all the articles in the category $C_0$ in the graph to all other nodes of the graph using BFS and they are stored in a dictionary whose keys are the destination nodes. \n",
    "\n",
    "* The values are grouped in each category.\n",
    "* To compute the median for each category, it is taken into account that if all the nodes are connected there will be $|C_0|\\times|C_i|$ distance values('Ideal cardinality'). When this is not the case, it means that there are some nodes which are unconnected and thereby unreachable. In this situation, the distance is considered as infinite, that for practical reasons in this report will be symbolised with the value 9999999999 afterwards. However, these values are not computed using the BFS, since the algorithm cannot reach those nodes. Nevertheless, as we know what would be the  'Ideal cardinality' we do not need to store them, just consider as they were there, since the median is the middle elements when the cardinality is an odd number and the mean of the n and n+1 element when the number of elements is odd. Therefore, for each category $C_i$, the difference in number of elements between the cardinality obtained and 'Ideal cardinality' are considered as infinite. \n",
    "\n",
    "The input category $C_0$ considered is \"Years_of unknown\". As it was said before first it is computed the distances from all the nodes in $C_0$ to all the other using Breadth First Search."
   ]
  },
  {
   "cell_type": "code",
   "execution_count": 17,
   "metadata": {},
   "outputs": [
    {
     "data": {
      "application/vnd.jupyter.widget-view+json": {
       "model_id": "31374e68245b4cafb83d5f8576c49f14"
      }
     },
     "metadata": {},
     "output_type": "display_data"
    },
    {
     "name": "stdout",
     "output_type": "stream",
     "text": [
      "\n"
     ]
    }
   ],
   "source": [
    "#creation of dictionary whose keys are source vectors and the values stored are all distances \n",
    "dfault=defaultdict(list)\n",
    "kl=deque([])\n",
    "for i in tqdm(category_dict_2[\"Year_of_birth_unknown\"]):\n",
    "    for k,j in (BFS_13(m,i).items()):\n",
    "        dfault[int(k)]+=[int(j)]\n",
    "        "
   ]
  },
  {
   "cell_type": "markdown",
   "metadata": {},
   "source": [
    "The dictionary with the distances was saved in order to not run the whole search again."
   ]
  },
  {
   "cell_type": "code",
   "execution_count": 19,
   "metadata": {
    "collapsed": true
   },
   "outputs": [],
   "source": [
    "#the dictionary with all distances are stored in a txt.file\n",
    "with open('BFS_Result.txt', 'w') as f: \n",
    "    json.dump(dfault, f)"
   ]
  },
  {
   "cell_type": "code",
   "execution_count": 14,
   "metadata": {
    "collapsed": true
   },
   "outputs": [],
   "source": [
    "#the dictionary with all distances is loaded in a variable\n",
    "with open('BFS_Result.txt') as f: \n",
    "    bfsresult = json.load(f)\n"
   ]
  },
  {
   "cell_type": "markdown",
   "metadata": {},
   "source": [
    "Then the block ranking is computed with the stretegy explained before: "
   ]
  },
  {
   "cell_type": "code",
   "execution_count": 15,
   "metadata": {},
   "outputs": [
    {
     "data": {
      "application/vnd.jupyter.widget-view+json": {
       "model_id": "1e5a9457f0c74c0a9ef18b017ad316f3"
      }
     },
     "metadata": {},
     "output_type": "display_data"
    },
    {
     "data": {
      "application/vnd.jupyter.widget-view+json": {
       "model_id": "63f6a014e3724d82818777e6aeb606c2"
      }
     },
     "metadata": {},
     "output_type": "display_data"
    },
    {
     "data": {
      "application/vnd.jupyter.widget-view+json": {
       "model_id": "dec8e169dfdb41cca1ad8873bf696cfc"
      }
     },
     "metadata": {},
     "output_type": "display_data"
    },
    {
     "data": {
      "application/vnd.jupyter.widget-view+json": {
       "model_id": "18dbc6c6f3ec46c78b352b7cee795167"
      }
     },
     "metadata": {},
     "output_type": "display_data"
    },
    {
     "data": {
      "application/vnd.jupyter.widget-view+json": {
       "model_id": "900d38c8949447afbbdf3746e0e666ce"
      }
     },
     "metadata": {},
     "output_type": "display_data"
    },
    {
     "data": {
      "application/vnd.jupyter.widget-view+json": {
       "model_id": "74f39276d9424cf69cd52f4003796362"
      }
     },
     "metadata": {},
     "output_type": "display_data"
    },
    {
     "data": {
      "application/vnd.jupyter.widget-view+json": {
       "model_id": "16c23b7706a041d9bd72ec95d17eafa5"
      }
     },
     "metadata": {},
     "output_type": "display_data"
    },
    {
     "data": {
      "application/vnd.jupyter.widget-view+json": {
       "model_id": "1f2cd1a55c8246c08642997564d15745"
      }
     },
     "metadata": {},
     "output_type": "display_data"
    },
    {
     "data": {
      "application/vnd.jupyter.widget-view+json": {
       "model_id": "0f34cd4b9751414da526718ceadfeb8b"
      }
     },
     "metadata": {},
     "output_type": "display_data"
    },
    {
     "data": {
      "application/vnd.jupyter.widget-view+json": {
       "model_id": "d129653d36ec4a17a8239f9a2b70943e"
      }
     },
     "metadata": {},
     "output_type": "display_data"
    },
    {
     "data": {
      "application/vnd.jupyter.widget-view+json": {
       "model_id": "3ef80fb0b8c9430282fe1be2ec1ee685"
      }
     },
     "metadata": {},
     "output_type": "display_data"
    },
    {
     "data": {
      "application/vnd.jupyter.widget-view+json": {
       "model_id": "aaf3bb134c3a48858951c25957fc6b50"
      }
     },
     "metadata": {},
     "output_type": "display_data"
    },
    {
     "data": {
      "application/vnd.jupyter.widget-view+json": {
       "model_id": "9f75ad2836934634a45178a5850bff5e"
      }
     },
     "metadata": {},
     "output_type": "display_data"
    },
    {
     "data": {
      "application/vnd.jupyter.widget-view+json": {
       "model_id": "10843d18264743bd9dec8cb80a24bd11"
      }
     },
     "metadata": {},
     "output_type": "display_data"
    },
    {
     "data": {
      "application/vnd.jupyter.widget-view+json": {
       "model_id": "cb488c9ec54a4e988c008ecaeb29fac7"
      }
     },
     "metadata": {},
     "output_type": "display_data"
    },
    {
     "data": {
      "application/vnd.jupyter.widget-view+json": {
       "model_id": "9c67ceab102d46518834391c19d6608c"
      }
     },
     "metadata": {},
     "output_type": "display_data"
    },
    {
     "data": {
      "application/vnd.jupyter.widget-view+json": {
       "model_id": "0e61b0e2212e4a88a6e4987e03e15ea5"
      }
     },
     "metadata": {},
     "output_type": "display_data"
    },
    {
     "data": {
      "application/vnd.jupyter.widget-view+json": {
       "model_id": "37de3de3f9fc47278bcb156ace0e9f3f"
      }
     },
     "metadata": {},
     "output_type": "display_data"
    },
    {
     "data": {
      "application/vnd.jupyter.widget-view+json": {
       "model_id": "25e0efc2c9384a8a957a95f38a2b7969"
      }
     },
     "metadata": {},
     "output_type": "display_data"
    },
    {
     "data": {
      "application/vnd.jupyter.widget-view+json": {
       "model_id": "fca40a73c9a6452e98f001824e40bbd9"
      }
     },
     "metadata": {},
     "output_type": "display_data"
    },
    {
     "data": {
      "application/vnd.jupyter.widget-view+json": {
       "model_id": "da30f3caf3ef420d814a061f65d1109f"
      }
     },
     "metadata": {},
     "output_type": "display_data"
    },
    {
     "data": {
      "application/vnd.jupyter.widget-view+json": {
       "model_id": "4cac6f33f5b4430a832aa4ed9d5d37d6"
      }
     },
     "metadata": {},
     "output_type": "display_data"
    },
    {
     "data": {
      "application/vnd.jupyter.widget-view+json": {
       "model_id": "05bf14d012b84c8c95fc28be5b407edf"
      }
     },
     "metadata": {},
     "output_type": "display_data"
    },
    {
     "data": {
      "application/vnd.jupyter.widget-view+json": {
       "model_id": "1f250faee15d4c119c9c5963f0be722c"
      }
     },
     "metadata": {},
     "output_type": "display_data"
    },
    {
     "data": {
      "application/vnd.jupyter.widget-view+json": {
       "model_id": "11f4108f95774f18821e62f83f45a01c"
      }
     },
     "metadata": {},
     "output_type": "display_data"
    },
    {
     "data": {
      "application/vnd.jupyter.widget-view+json": {
       "model_id": "ce67e97340e74c79b54459a57e5fb2e0"
      }
     },
     "metadata": {},
     "output_type": "display_data"
    },
    {
     "data": {
      "application/vnd.jupyter.widget-view+json": {
       "model_id": "2ac5f89b093b4889a41d47f7ea742bb4"
      }
     },
     "metadata": {},
     "output_type": "display_data"
    },
    {
     "data": {
      "application/vnd.jupyter.widget-view+json": {
       "model_id": "1fc6593d570941cebd5d8d613181d4d8"
      }
     },
     "metadata": {},
     "output_type": "display_data"
    },
    {
     "data": {
      "application/vnd.jupyter.widget-view+json": {
       "model_id": "a489df8e5a394f96bbf26364af552e0f"
      }
     },
     "metadata": {},
     "output_type": "display_data"
    },
    {
     "data": {
      "application/vnd.jupyter.widget-view+json": {
       "model_id": "5e4cca6c6e994683b2df0e4024fdb877"
      }
     },
     "metadata": {},
     "output_type": "display_data"
    },
    {
     "data": {
      "application/vnd.jupyter.widget-view+json": {
       "model_id": "8e7c5112bb84494794f5fbc3cbfa691b"
      }
     },
     "metadata": {},
     "output_type": "display_data"
    },
    {
     "data": {
      "application/vnd.jupyter.widget-view+json": {
       "model_id": "a49c78c87f524a9dab074eafae9aa122"
      }
     },
     "metadata": {},
     "output_type": "display_data"
    },
    {
     "data": {
      "application/vnd.jupyter.widget-view+json": {
       "model_id": "9eec6e3f6aef4c699b01a6c5eac92ce0"
      }
     },
     "metadata": {},
     "output_type": "display_data"
    },
    {
     "data": {
      "application/vnd.jupyter.widget-view+json": {
       "model_id": "fe73f1ffef0c4b5d87a20f1d873c2a2e"
      }
     },
     "metadata": {},
     "output_type": "display_data"
    },
    {
     "data": {
      "application/vnd.jupyter.widget-view+json": {
       "model_id": "94cf60d262664952939f32f14697c993"
      }
     },
     "metadata": {},
     "output_type": "display_data"
    },
    {
     "name": "stdout",
     "output_type": "stream",
     "text": [
      "\n"
     ]
    }
   ],
   "source": [
    "block_ranking=block_ranking_creation(category_dict_2,bfsresult, 'Year_of_birth_unknown')"
   ]
  },
  {
   "cell_type": "markdown",
   "metadata": {},
   "source": [
    "It is shown the block ranking with the corresponding value of the median for its category. The value 999999999999999999 corresponds to infinte and it means most of the nodes of that category was unconnected with the input category."
   ]
  },
  {
   "cell_type": "code",
   "execution_count": 16,
   "metadata": {},
   "outputs": [
    {
     "data": {
      "text/plain": [
       "OrderedDict([('Year_of_birth_unknown', -1),\n",
       "             ('English-language_films', 6.0),\n",
       "             ('Members_of_the_United_Kingdom_Parliament_for_English_constituencies',\n",
       "              7.0),\n",
       "             ('English_television_actors', 7.0),\n",
       "             ('British_films', 7.0),\n",
       "             ('American_films', 7.0),\n",
       "             ('American_Jews', 7.0),\n",
       "             ('American_television_actors', 7.0),\n",
       "             ('American_film_actors', 7.0),\n",
       "             ('Black-and-white_films', 7.0),\n",
       "             ('Indian_films', 8.0),\n",
       "             ('Rivers_of_Romania', 8.0),\n",
       "             ('English-language_albums', 8.0),\n",
       "             ('People_from_New_York_City', 8.0),\n",
       "             ('Article_Feedback_Pilot', 8.0),\n",
       "             ('Debut_albums', 9.0),\n",
       "             ('English_footballers', '999999999999999999'),\n",
       "             ('The_Football_League_players', '999999999999999999'),\n",
       "             ('Association_football_forwards', '999999999999999999'),\n",
       "             ('Association_football_goalkeepers', '999999999999999999'),\n",
       "             ('Association_football_midfielders', '999999999999999999'),\n",
       "             ('Association_football_defenders', '999999999999999999'),\n",
       "             ('Living_people', '999999999999999999'),\n",
       "             ('Harvard_University_alumni', '999999999999999999'),\n",
       "             ('Major_League_Baseball_pitchers', '999999999999999999'),\n",
       "             ('Year_of_death_missing', '999999999999999999'),\n",
       "             ('English_cricketers', '999999999999999999'),\n",
       "             ('Year_of_birth_missing_(living_people)', '999999999999999999'),\n",
       "             ('Main_Belt_asteroids', '999999999999999999'),\n",
       "             ('Asteroids_named_for_people', '999999999999999999'),\n",
       "             ('Fellows_of_the_Royal_Society', '999999999999999999'),\n",
       "             ('Year_of_birth_missing', '999999999999999999'),\n",
       "             ('Place_of_birth_missing_(living_people)', '999999999999999999'),\n",
       "             ('American_military_personnel_of_World_War_II',\n",
       "              '999999999999999999'),\n",
       "             ('Windows_games', '999999999999999999')])"
      ]
     },
     "execution_count": 16,
     "metadata": {},
     "output_type": "execute_result"
    }
   ],
   "source": [
    "block_ranking"
   ]
  },
  {
   "cell_type": "markdown",
   "metadata": {},
   "source": [
    "Once the $block_{RANKING}$ vector is obtained , the nodes in each category are sorted. The way this is done is explained below.\n",
    "Suppose the categories order, given from the previous point, are $C_0, C_1 \\ldots, C_n$.\n",
    "\n",
    "* It is computed the subgraph induced by $C_0$. For each node compute the sum of the weigths of the in-edges, that is to say,\n",
    "\\begin{equation}\n",
    "score_{article_i} = \\sum_{j \\in in-edges(article_i)} w_j\n",
    "\\end{equation}\n",
    "* The graph is extended to the nodes that belong to $C_1$. Thus, for each article in $C_1$ it is computed the score as before. Note that the in-edges coming from the previous category, $C_0$, have as weights the score of the node that sends the edge.\n",
    "\n",
    "* The previous step is repeated up to the last category of the ranking. \n",
    "\n",
    "Before, doing the process described above, the articles which are in several categories are just considered, among the categories it belongs to, to the closest to the input category. This is done below:"
   ]
  },
  {
   "cell_type": "code",
   "execution_count": 17,
   "metadata": {},
   "outputs": [
    {
     "data": {
      "application/vnd.jupyter.widget-view+json": {
       "model_id": "1a5b4113a8324769a63e7a0e9b6fb09d"
      }
     },
     "metadata": {},
     "output_type": "display_data"
    },
    {
     "name": "stdout",
     "output_type": "stream",
     "text": [
      "\n"
     ]
    }
   ],
   "source": [
    "#block ranking with just names(no distances)\n",
    "block_ranking_names=block_ranking.keys()\n",
    "#categories without repeated elements\n",
    "filter_categories=categories_clean(block_ranking,category_dict_2)"
   ]
  },
  {
   "cell_type": "markdown",
   "metadata": {},
   "source": [
    "Then, it is created a function which creates a list whose elements are the nodes considered in each iteration."
   ]
  },
  {
   "cell_type": "code",
   "execution_count": 19,
   "metadata": {},
   "outputs": [
    {
     "data": {
      "application/vnd.jupyter.widget-view+json": {
       "model_id": "645d906b1787473784777a140d0bd388"
      }
     },
     "metadata": {},
     "output_type": "display_data"
    },
    {
     "name": "stdout",
     "output_type": "stream",
     "text": [
      "\n"
     ]
    }
   ],
   "source": [
    "# creation of lists with the nodes of the subgraph for each iteration \n",
    "steps=step_creation(filter_categories)"
   ]
  },
  {
   "cell_type": "markdown",
   "metadata": {},
   "source": [
    "It is created a function using the library <code>networkx</code> to order the elements of each category as it was described before. The function returns a list of dictionaries, where each list corresponds to a category of the block ranking."
   ]
  },
  {
   "cell_type": "code",
   "execution_count": 20,
   "metadata": {},
   "outputs": [
    {
     "data": {
      "application/vnd.jupyter.widget-view+json": {
       "model_id": "dd64080eb1b84b8c848e3859c4b11266"
      }
     },
     "metadata": {},
     "output_type": "display_data"
    },
    {
     "name": "stdout",
     "output_type": "stream",
     "text": [
      "\n"
     ]
    },
    {
     "data": {
      "application/vnd.jupyter.widget-view+json": {
       "model_id": "c0f6fdeb007f4d8bafe3ea0b0ccf2b39"
      }
     },
     "metadata": {},
     "output_type": "display_data"
    },
    {
     "data": {
      "application/vnd.jupyter.widget-view+json": {
       "model_id": "b87986d11d644f268b0950728eda65b2"
      }
     },
     "metadata": {},
     "output_type": "display_data"
    },
    {
     "data": {
      "application/vnd.jupyter.widget-view+json": {
       "model_id": "35c8536f240c4f029885f1786551d12c"
      }
     },
     "metadata": {},
     "output_type": "display_data"
    },
    {
     "data": {
      "application/vnd.jupyter.widget-view+json": {
       "model_id": "a04bbca22b214194b8a4a3c1277ffd5f"
      }
     },
     "metadata": {},
     "output_type": "display_data"
    },
    {
     "data": {
      "application/vnd.jupyter.widget-view+json": {
       "model_id": "0932b18e962d4328ac440ee69fb0d3a7"
      }
     },
     "metadata": {},
     "output_type": "display_data"
    },
    {
     "data": {
      "application/vnd.jupyter.widget-view+json": {
       "model_id": "6c42ba711be74742abbc017f6423f199"
      }
     },
     "metadata": {},
     "output_type": "display_data"
    },
    {
     "data": {
      "application/vnd.jupyter.widget-view+json": {
       "model_id": "3ca46721f0e6427887a49a239814c789"
      }
     },
     "metadata": {},
     "output_type": "display_data"
    },
    {
     "data": {
      "application/vnd.jupyter.widget-view+json": {
       "model_id": "8fe4d3dca3294d5b94bb88ad60af7396"
      }
     },
     "metadata": {},
     "output_type": "display_data"
    },
    {
     "data": {
      "application/vnd.jupyter.widget-view+json": {
       "model_id": "911dac917c4e4a04a1a6da2822c02544"
      }
     },
     "metadata": {},
     "output_type": "display_data"
    },
    {
     "data": {
      "application/vnd.jupyter.widget-view+json": {
       "model_id": "d17d6831d6104efd8fe99923483a8a93"
      }
     },
     "metadata": {},
     "output_type": "display_data"
    },
    {
     "data": {
      "application/vnd.jupyter.widget-view+json": {
       "model_id": "0e8ef2088bd74bc1bcca3c7308951469"
      }
     },
     "metadata": {},
     "output_type": "display_data"
    },
    {
     "data": {
      "application/vnd.jupyter.widget-view+json": {
       "model_id": "5072402557c146febfa579ce75c11e8b"
      }
     },
     "metadata": {},
     "output_type": "display_data"
    },
    {
     "data": {
      "application/vnd.jupyter.widget-view+json": {
       "model_id": "cd35d9b5d8af481f9bbb1cdaffdc27cc"
      }
     },
     "metadata": {},
     "output_type": "display_data"
    },
    {
     "data": {
      "application/vnd.jupyter.widget-view+json": {
       "model_id": "08fb04bf018c44e1b45fd2b1a64b0455"
      }
     },
     "metadata": {},
     "output_type": "display_data"
    },
    {
     "data": {
      "application/vnd.jupyter.widget-view+json": {
       "model_id": "807c04faa9994372ad3d0608bc03c3dc"
      }
     },
     "metadata": {},
     "output_type": "display_data"
    },
    {
     "data": {
      "application/vnd.jupyter.widget-view+json": {
       "model_id": "c7fb00f7bd1643afa7dd9b07b49855d2"
      }
     },
     "metadata": {},
     "output_type": "display_data"
    },
    {
     "data": {
      "application/vnd.jupyter.widget-view+json": {
       "model_id": "f3153642ad8142e59bb35eec0252317a"
      }
     },
     "metadata": {},
     "output_type": "display_data"
    },
    {
     "data": {
      "application/vnd.jupyter.widget-view+json": {
       "model_id": "6c6d4904a837461a949d6e16d983e28c"
      }
     },
     "metadata": {},
     "output_type": "display_data"
    },
    {
     "data": {
      "application/vnd.jupyter.widget-view+json": {
       "model_id": "cc082791e5d74c6eab08cbcc1050758e"
      }
     },
     "metadata": {},
     "output_type": "display_data"
    },
    {
     "data": {
      "application/vnd.jupyter.widget-view+json": {
       "model_id": "710484d50f2f40e290e750bac8c1fd20"
      }
     },
     "metadata": {},
     "output_type": "display_data"
    },
    {
     "data": {
      "application/vnd.jupyter.widget-view+json": {
       "model_id": "6081ce2c546a4d8493b958c1fcb81e4c"
      }
     },
     "metadata": {},
     "output_type": "display_data"
    },
    {
     "data": {
      "application/vnd.jupyter.widget-view+json": {
       "model_id": "0a8babc899d44d1a9376a57592eb5462"
      }
     },
     "metadata": {},
     "output_type": "display_data"
    },
    {
     "data": {
      "application/vnd.jupyter.widget-view+json": {
       "model_id": "3f056ea380dc4222be66fe139f1d6b60"
      }
     },
     "metadata": {},
     "output_type": "display_data"
    },
    {
     "data": {
      "application/vnd.jupyter.widget-view+json": {
       "model_id": "f75ee1f907624120bbdb32a0815ae9dc"
      }
     },
     "metadata": {},
     "output_type": "display_data"
    },
    {
     "data": {
      "application/vnd.jupyter.widget-view+json": {
       "model_id": "591e3bd40a47482199695bd326ededb5"
      }
     },
     "metadata": {},
     "output_type": "display_data"
    },
    {
     "data": {
      "application/vnd.jupyter.widget-view+json": {
       "model_id": "073b7d5d994c4ff99bf3bcd8069e8b9e"
      }
     },
     "metadata": {},
     "output_type": "display_data"
    },
    {
     "data": {
      "application/vnd.jupyter.widget-view+json": {
       "model_id": "37e0ad6aa1e648b58cbf0d42d0ea642c"
      }
     },
     "metadata": {},
     "output_type": "display_data"
    },
    {
     "data": {
      "application/vnd.jupyter.widget-view+json": {
       "model_id": "a063e7d064324960ab1a92330a774325"
      }
     },
     "metadata": {},
     "output_type": "display_data"
    },
    {
     "data": {
      "application/vnd.jupyter.widget-view+json": {
       "model_id": "dce25f622f3143b28217dcd960eacb0f"
      }
     },
     "metadata": {},
     "output_type": "display_data"
    },
    {
     "data": {
      "application/vnd.jupyter.widget-view+json": {
       "model_id": "e3f651d73ab54dbb8a74ce81261d8aa3"
      }
     },
     "metadata": {},
     "output_type": "display_data"
    },
    {
     "data": {
      "application/vnd.jupyter.widget-view+json": {
       "model_id": "689cce9f7e304388a6b00b070ea81f13"
      }
     },
     "metadata": {},
     "output_type": "display_data"
    },
    {
     "data": {
      "application/vnd.jupyter.widget-view+json": {
       "model_id": "6d8fcf50fba540dabcae84393a149830"
      }
     },
     "metadata": {},
     "output_type": "display_data"
    },
    {
     "data": {
      "application/vnd.jupyter.widget-view+json": {
       "model_id": "1a26f8c4a8bc4046afb92b8fbb4ad0e1"
      }
     },
     "metadata": {},
     "output_type": "display_data"
    },
    {
     "data": {
      "application/vnd.jupyter.widget-view+json": {
       "model_id": "e8b9572434564861bf914338bcafb4c2"
      }
     },
     "metadata": {},
     "output_type": "display_data"
    },
    {
     "data": {
      "application/vnd.jupyter.widget-view+json": {
       "model_id": "003dda519d964b24879a1176cdbc150c"
      }
     },
     "metadata": {},
     "output_type": "display_data"
    },
    {
     "data": {
      "application/vnd.jupyter.widget-view+json": {
       "model_id": "02ba97f66c0a4dc1bb85c61faa3ef24f"
      }
     },
     "metadata": {},
     "output_type": "display_data"
    },
    {
     "name": "stdout",
     "output_type": "stream",
     "text": [
      "\n"
     ]
    }
   ],
   "source": [
    "o=articles_order(m,filter_categories,steps)"
   ]
  },
  {
   "cell_type": "code",
   "execution_count": 30,
   "metadata": {},
   "outputs": [],
   "source": [
    "#merge all the ranks\n",
    "D=[]\n",
    "for i in o:\n",
    "    # all articles ordered are included in a list\n",
    "    D.extend(OrderedDict(sorted(i.items(), key=lambda t: int(t[1]) ,reverse=True)).keys())"
   ]
  },
  {
   "cell_type": "markdown",
   "metadata": {},
   "source": [
    "The first 5000 elements of the rank are shown below."
   ]
  },
  {
   "cell_type": "code",
   "execution_count": 35,
   "metadata": {
    "scrolled": false
   },
   "outputs": [
    {
     "name": "stdout",
     "output_type": "stream",
     "text": [
      "[62684, 170163, 1656777, 1656780, 169696, 1656794, 170578, 1342864, 1343014, 1656778, 666855, 1342960, 1203095, 1203235, 1203496, 1779656, 174582, 1109348, 1109485, 159606, 159730, 159920, 1766063, 64632, 1344701, 34422, 1443739, 166284, 168001, 168145, 168251, 168258, 185120, 170158, 1203101, 170969, 170970, 170971, 170972, 170973, 1122762, 174427, 174439, 666857, 159750, 1765824, 1765831, 1765837, 62695, 1340874, 1342803, 1343206, 360595, 1344730, 1344821, 1656450, 1656452, 1656453, 1656455, 1443741, 1656779, 1656793, 1345946, 1345947, 167906, 167966, 168100, 168194, 201333, 186174, 186176, 170536, 1203043, 1203247, 171344, 171410, 171660, 958429, 958480, 172050, 1319048, 1122603, 1122605, 156307, 173221, 173671, 1779795, 1779800, 174428, 1190355, 60061, 175366, 1109359, 159614, 159736, 159749, 159753, 159754, 159766, 159914, 159934, 176367, 1765823, 1765832, 1765845, 1765848, 1684172, 324414, 1766449, 1766721, 456791, 1144930, 1341834, 883490, 748777, 1342852, 1342968, 1343059, 1343160, 65614, 245933, 836548, 1344690, 1344732, 1344733, 1344801, 460208, 1656449, 1656548, 1443740, 1443743, 1346000, 1346001, 1346004, 1346006, 182762, 1346041, 166516, 166527, 166831, 134400, 167920, 167938, 167945, 168098, 168102, 168136, 168142, 168239, 168242, 168244, 168250, 168341, 184927, 201330, 201331, 184975, 349032, 349035, 168876, 168877, 218241, 169119, 1119495, 1119499, 185814, 185818, 186141, 530366, 170098, 170161, 170177, 170187, 170449, 170573, 1202924, 1203019, 1203042, 1776512, 1776513, 23469, 1203138, 1678301, 1203213, 171065, 171455, 171666, 171764, 958242, 172074, 1122394, 1663112, 1663114, 1122526, 1122629, 1122640, 1122677, 1122739, 1122750, 156306, 172766, 172882, 172883, 173007, 697371, 173220, 435391, 435395, 1517046, 173641, 173680, 1550155, 173988, 1779640, 174014, 1779790, 1779828, 1779833, 1779857, 1779925, 174353, 1780041, 174435, 1780117, 1780133, 174502, 1780165, 1190352, 1190359, 1190363, 1190369, 174629, 60257, 1469352, 748774, 748775, 666853, 666862, 666863, 666870, 666871, 617764, 1142077, 1109344, 1109360, 1109362, 175636, 618032, 618041, 1109563, 618049, 618099, 618101, 618104, 618105, 618106, 618107, 618123, 438046, 438047, 1781716, 1781720, 159735, 159743, 159745, 159751, 159758, 159761, 159775, 159780, 159787, 159793, 159794, 159812, 159863, 159896, 159932, 176368, 176369, 176392, 1421757, 1421759, 1421760, 1765822, 1765834, 1765835, 45522, 45524, 1765839, 1765846, 61936, 61937, 1765950, 1765991, 324303, 45948, 45950, 45952, 1143908, 1766522, 1766523, 62616, 62697, 62698, 62833, 1340870, 1340974, 1340978, 620319, 620320, 1144720, 1144723, 161849, 161973, 358957, 883488, 211867, 211868, 195851, 1342820, 1342834, 1342880, 1342890, 1342898, 1342910, 769506, 1342983, 196158, 1343103, 196236, 196241, 180061, 360402, 213014, 360545, 360549, 360604, 1753343, 1261835, 360993, 836518, 836547, 410586, 410589, 836580, 164891, 1344583, 623762, 623763, 1344679, 1344687, 1344689, 1344763, 1344770, 1344803, 1344818, 1344834, 181583, 836991, 460209, 460214, 1656246, 1656276, 1344981, 460269, 460270, 1656372, 1656431, 34424, 34425, 1656444, 460471, 460472, 1656546, 1656547, 1656549, 1656555, 1656563, 1656575, 1656576, 395013, 231202, 1656709, 1132425, 1656724, 1443738, 1656762, 1116091, 1116092, 34762, 1656792, 1656802, 1656806, 1656823, 1656847, 1656857, 1656870, 1689641, 1689642, 1656886, 165957, 1656907, 1656909, 165966, 215122, 165976, 34909, 1656946, 1411349, 1411350, 1345900, 1345904, 1345917, 1345938, 166339, 1346003, 182761, 1346039, 166392, 1346040, 215551, 166402, 182807, 215630, 215633, 166521, 166524, 166526, 166529, 166538, 166558, 166560, 1116863, 166816, 166832, 166890, 953683, 413030, 413031, 888207, 331404, 954050, 970463, 167751, 167775, 167778, 348005, 348006, 167921, 167930, 167931, 954371, 954383, 167970, 168012, 168079, 168107, 168118, 168120, 168161, 168195, 168219, 1691945, 1691952, 168256, 168261, 168297, 364923, 168338, 168353, 512430, 659898, 545323, 545354, 184929, 184946, 184948, 201334, 201339, 201340, 184969, 791339, 168769, 414548, 365406, 349029, 168864, 168875, 168979, 185395, 545861, 218209, 218213, 1479796, 1479797, 169123, 971949, 185804, 939481, 939482, 350256, 481329, 350258, 170101, 1775745, 1775748, 170188, 186611, 186612, 170239, 170240, 170383, 186814, 186816, 55754, 170494, 170514, 170558, 1202774, 170587, 170603, 1202803, 1202837, 1203022, 1203040, 1203093, 23468, 1203121, 23476, 1203136, 1203148, 1203152, 449491, 1203157, 1678298, 1678302, 170993, 1203239, 1203249, 171066, 171116, 171131, 171132, 171140, 1203360, 1203361, 56524, 171225, 171333, 171334, 171339, 56673, 957812, 171403, 171415, 171426, 171458, 171464, 1121792, 1121796, 957992, 171586, 171635, 171693, 57023, 171716, 958199, 958216, 1777415, 171793, 958325, 417673, 171918, 171919, 417685, 417688, 958383, 171971, 712679, 958476, 1204299, 1319047, 1663113, 1122479, 1122637, 1122715, 172510, 172539, 172543, 172653, 172697, 172698, 172730, 172731, 172830, 172859, 598961, 484283, 484284, 484341, 484346, 484349, 484352, 599067, 828458, 173153, 173224, 1516717, 435392, 435397, 173258, 173289, 173354, 173382, 173384, 173389, 173390, 173415, 173416, 173431, 42370, 173456, 173517, 173529, 173549, 189939, 173557, 1517045, 173559, 189948, 173570, 173577, 1517069, 173606, 173628, 173672, 173710, 173737, 42795, 59198, 1550156, 1550157, 59216, 173939, 1779627, 649191, 174143, 288878, 534678, 534680, 288930, 174289, 174304, 1779939, 665833, 665834, 665836, 174354, 43293, 1780080, 780697, 1780129, 1780137, 1780163, 1190357, 1190367, 1206761, 1190380, 158250, 617059, 174741, 682648, 60066, 1780454, 174833, 174834, 43770, 43771, 1780512, 174964, 174965, 1469343, 1469347, 44204, 44205, 666796, 666822, 666845, 175328, 748772, 175333, 666867, 666873, 666879, 175382, 666907, 617756, 666908, 666910, 175433, 617803, 1109347, 1142120, 175469, 1109363, 355757, 355758, 1109433, 1109474, 618023, 618125, 618128, 1781416, 93914, 93915, 437977, 1142495, 1142502, 175867, 61206, 159511, 61208, 61261, 61315, 1142662, 159639, 1404830, 1404839, 1781718, 159732, 159737, 159742, 159752, 159759, 159762, 159764, 159767, 159779, 159786, 159811, 159849, 159859, 159860, 159886, 159889, 159943, 1142999, 1143012, 176377, 176380, 160003, 1143044, 176418, 1143085, 1143113, 1765705, 1765706, 1765767, 1765768, 1765772, 1421753, 1421754, 1421756, 1421758, 1765819, 1765820, 1765825, 1765836, 1143248, 45523, 1765874, 324170, 1765996, 1143409, 1766072, 1684163, 1766083, 1766084, 1766087, 324301, 1684178, 1766138, 1766196, 45897, 1766224, 45906, 45907, 1143638, 1766243, 619389, 62384, 1766323, 1766334, 1143833, 1766439, 1766450, 62620, 62624, 177345, 1766621, 1471714, 1471715, 62694, 62708, 62735, 1471766, 1471767, 62784, 1766720, 62799, 62800, 1766741, 161115, 62830, 1766770, 62855, 62872, 62897, 1766836, 1766838, 62911, 1340892, 161249, 1144294, 1340902, 1340975, 1340977, 63066, 1144436, 341642, 1292031, 620334, 1341271, 1341272, 1144665, 1144713, 1144722, 1341338, 47017, 1341379, 161769, 47085, 1144836, 1144875, 1144878, 161847, 1341499, 161887, 161898, 161900, 1144938, 161904, 1341563, 1341564, 1144968, 161945, 1341605, 129205, 194766, 1341665, 1341674, 129328, 129329, 194870, 162103, 162121, 1341803, 1341830, 1341846, 358853, 358881, 358918, 358961, 1145400, 358975, 1522250, 473702, 473707, 1145485, 359169, 359170, 211717, 1555226, 883492, 211753, 883499, 359312, 1096601, 211869, 834580, 883767, 48192, 1342838, 621963, 1342877, 1342882, 1342887, 1342909, 1342915, 1342927, 1342932, 1342972, 1343025, 196154, 1343089, 704120, 1343124, 163478, 1343207, 360172, 1343212, 360174, 360261, 180086, 360328, 1130540, 360497, 360531, 1081428, 1359957, 1605768, 114842, 1261744, 1147068, 819393, 114883, 704707, 1589450, 1261789, 1753342, 1491210, 295185, 1081633, 65872, 426344, 344528, 410075, 1147361, 1507881, 426570, 656034, 213671, 361133, 950964, 950977, 1147610, 443100, 1262307, 672511, 1606401, 1114912, 1262394, 836460, 213926, 836539, 410569, 836597, 1147897, 246778, 836602, 459779, 836619, 672781, 836628, 951357, 1606722, 951380, 1639508, 1148022, 1721462, 197776, 197778, 754836, 1344660, 1344664, 1508513, 1344681, 1344683, 1344694, 230604, 1344725, 394463, 1344735, 361697, 1656037, 148717, 1098992, 148737, 1639681, 1656067, 1656080, 1344793, 1656110, 1344817, 1344830, 1754435, 1508678, 1344840, 1344842, 460115, 1344856, 836962, 1344879, 673136, 1656202, 1410443, 1656206, 460181, 460183, 460187, 460195, 378276, 460211, 1656243, 460215, 165304, 460238, 1705429, 460251, 1672668, 820701, 1344994, 1656305, 1656317, 1656324, 1263110, 460301, 460307, 460336, 116285, 394813, 460355, 837190, 1508936, 247385, 460412, 460414, 394915, 1050277, 460464, 1705657, 1492666, 427719, 427727, 427738, 1115868, 1656545, 1148653, 1656564, 1656581, 395016, 395017, 821005, 640783, 427800, 902949, 198468, 591711, 427881, 1509226, 165760, 1656743, 1656751, 1116088, 165826, 1148868, 1656790, 1656791, 427997, 1656797, 1656798, 1656801, 1656805, 1656811, 1656813, 165874, 903154, 165898, 1640476, 165922, 1656871, 313388, 165933, 116787, 1378356, 165958, 1148997, 1656906, 1656912, 1149013, 1656921, 1427548, 165982, 165989, 165993, 1149038, 166013, 903310, 166032, 952465, 1656977, 166035, 166036, 166037, 1296536, 526489, 1411224, 1656990, 657568, 1657006, 1018031, 1411261, 395455, 1657040, 1444058, 1493229, 772336, 1149180, 166152, 461068, 330031, 1149238, 166199, 1640763, 166244, 248182, 1345919, 1018241, 1018255, 166291, 248213, 166298, 1378714, 166307, 166308, 182693, 166310, 35263, 35264, 1345989, 1657293, 1346012, 477664, 166373, 182766, 215546, 952827, 166396, 1346042, 166405, 166410, 215571, 1657363, 166430, 821822, 1378879, 215621, 1378895, 215640, 1149543, 526968, 166530, 51844, 166539, 166541, 166542, 1378960, 1149592, 1428130, 1084068, 166583, 346867, 1772299, 1428241, 150291, 1149719, 1379114, 904036, 1035129, 1100673, 527234, 166805, 215966, 101290, 215991, 1444801, 1149907, 166889, 216052, 658460, 1444921, 1444942, 347233, 216186, 1150086, 1117336, 216253, 1510602, 150753, 1674483, 3335, 216328, 199980, 1772852, 216394, 888188, 888193, 183706, 183716, 183720, 183737, 1379873, 233007, 233013, 708206, 1232522, 1298073, 970395, 233128, 233155, 954052, 1167053, 970467, 970486, 216824, 1117977, 1380138, 610092, 348001, 151397, 1118076, 1232769, 429964, 1658769, 53151, 167848, 184239, 217011, 167864, 954315, 86004, 954358, 184310, 954362, 167936, 167941, 167944, 659469, 954384, 167965, 233504, 167994, 168039, 1708148, 86138, 1773756, 1708231, 1413330, 921811, 1380565, 168162, 168164, 528662, 1446185, 1413421, 168243, 1691969, 528715, 1151309, 1315157, 364913, 168342, 889286, 1659360, 1659362, 1151492, 53770, 676369, 184863, 1249851, 610919, 168552, 184973, 184978, 184997, 185006, 1446575, 70325, 348876, 365287, 185086, 922366, 1708877, 54096, 791387, 201566, 201568, 54127, 938864, 1364867, 414600, 1659806, 545709, 201647, 955327, 70603, 168915, 414700, 726004, 922613, 70665, 168977, 168990, 234530, 1610787, 169021, 398411, 955474, 955485, 54371, 218212, 185445, 54375, 218217, 1250427, 1447052, 775310, 103579, 169127, 1627312, 169141, 1250503, 169193, 1766067, 480581, 87370, 1758548, 546134, 447838, 1774950, 841070, 1054117, 939431, 972217, 120254, 972252, 1218041, 595460, 185894, 185895, 480818, 480824, 480834, 1283650, 1529422, 153185, 431733, 956021, 54923, 480934, 186037, 480950, 1267395, 333520, 55010, 1038076, 186110, 1251080, 22286, 186150, 186153, 1464111, 55102, 186175, 186182, 1464162, 1775493, 1660823, 530343, 530363, 956348, 169920, 792519, 333793, 137194, 186356, 1087490, 202759, 956426, 1087538, 333877, 1415225, 219199, 1202253, 1677395, 350297, 1677401, 317555, 170100, 350322, 972934, 350345, 55434, 350356, 612501, 1661082, 465065, 1382579, 1677498, 1677501, 956610, 219345, 219346, 219353, 170213, 170217, 186619, 1464581, 1677602, 170276, 1251641, 1202523, 350573, 268664, 547202, 72085, 186776, 1694118, 137662, 1628608, 55747, 170444, 186830, 170452, 170454, 170455, 711147, 170511, 170518, 219670, 170524, 170526, 170534, 956984, 1202756, 105041, 55895, 170584, 170589, 1268320, 55905, 678508, 170624, 219782, 891534, 1202867, 727740, 711373, 1202949, 301834, 1710859, 1202960, 1481495, 1284888, 1301372, 1121159, 1235874, 1661859, 367526, 1481642, 1530794, 1170350, 547762, 1711040, 1121225, 1678287, 1678288, 1678289, 39892, 1203158, 1678291, 1678292, 1678296, 1678305, 1170405, 1170415, 367601, 1268746, 1170469, 1203237, 1367086, 1203257, 1367097, 1367106, 1367143, 1170540, 72821, 449657, 56442, 793722, 1268881, 1711257, 72862, 367777, 367778, 203952, 449717, 826556, 220378, 1170662, 793864, 171286, 449823, 171309, 204079, 171349, 302421, 56668, 56670, 171359, 957802, 171371, 73070, 367999, 368018, 1170836, 1170837, 335256, 1514918, 171441, 171442, 269749, 171446, 957883, 957891, 1514988, 761353, 171542, 957983, 1170980, 990764, 368188, 171581, 958034, 171611, 171622, 171636, 466550, 171639, 1089142, 958080, 597633, 188034, 171667, 24212, 1760917, 958109, 368290, 171708, 171722, 171724, 1269463, 171736, 171737, 712409, 171745, 958181, 237286, 499434, 958209, 958214, 958215, 40716, 122641, 1171222, 171815, 171824, 712498, 368443, 1171264, 958277, 1171279, 1171292, 958301, 188260, 1580918, 958327, 1171327, 319370, 581519, 925584, 171930, 171944, 171947, 958393, 1171388, 171972, 958435, 1171429, 172017, 958450, 368658, 368661, 1269822, 1204300, 172116, 1171545, 1253475, 827516, 958589, 958595, 1171594, 401579, 827571, 1122515, 1122532, 188650, 1417470, 1417472, 1417505, 1270073, 1171770, 1614149, 532809, 155980, 450892, 680309, 1270167, 172449, 729510, 1270185, 172458, 156092, 598470, 172487, 1122761, 827855, 729560, 1171933, 336357, 156151, 827997, 1073770, 1270378, 172664, 156304, 1385111, 1745597, 172742, 959175, 271066, 41699, 172773, 1745651, 910068, 828155, 156440, 41761, 729900, 41778, 1123122, 1139522, 1139523, 680787, 828253, 156536, 1516426, 1516454, 1516455, 828329, 877484, 320429, 1516484, 1008586, 1565652, 41941, 1565653, 173029, 533478, 1418222, 484338, 484340, 484342, 484343, 484344, 1516532, 484350, 484351, 484353, 484354, 1762312, 173067, 713740, 1778703, 1041426, 42011, 697379, 959539, 713810, 1713237, 1139802, 1664101, 42090, 173171, 1074301, 205953, 435332, 943238, 484498, 828570, 173234, 173246, 533695, 435398, 435402, 681162, 615639, 1123556, 976109, 42245, 42246, 75013, 1516810, 435476, 42269, 173349, 681256, 42303, 173386, 435564, 714117, 173451, 173459, 484756, 42400, 1320354, 173518, 173530, 42466, 1549795, 173548, 173551, 173552, 173555, 1779190, 173574, 1517072, 1517075, 1484318, 42527, 173605, 42539, 173620, 566840, 173625, 173631, 829010, 173661, 26206, 173667, 173682, 943733, 714361, 173709, 1631895, 173723, 42669, 829113, 1550017, 1533664, 190183, 173800, 829160, 157446, 173843, 108314, 1550126, 1402671, 1550129, 1550134, 59203, 157516, 1746767, 59218, 42842, 59230, 173938, 1156990, 1550212, 1779589, 1156998, 1140637, 173989, 665508, 173991, 1779632, 878513, 1779635, 1664951, 1779641, 42951, 649190, 1255413, 1681410, 43021, 1763343, 1140753, 1681433, 1140764, 174117, 43047, 1140775, 878637, 1501250, 534601, 174157, 665682, 1124440, 665690, 665691, 1779805, 108640, 665701, 665702, 534643, 1779827, 829557, 600196, 43142, 1779862, 1124527, 174286, 1779923, 1779937, 534757, 1779941, 698622, 1779972, 305418, 436503, 59673, 43290, 59675, 43292, 10527, 174368, 1779999, 485668, 174396, 1780029, 1780054, 1419613, 174431, 1780070, 616812, 1780077, 1501557, 158085, 1780120, 1632672, 1780130, 1632680, 1780140, 1468846, 879038, 1190362, 1190365, 354785, 600573, 961031, 1518087, 158225, 158228, 1468950, 584219, 43550, 1010226, 1157695, 43595, 928346, 207456, 1419885, 158355, 1780379, 289485, 1764065, 1780468, 1125110, 174850, 1469211, 174881, 60273, 469883, 371588, 256904, 1223569, 1223575, 1223579, 1125285, 1223597, 1223599, 617401, 617415, 1354698, 1436642, 715813, 1010726, 60457, 355377, 175167, 1780813, 306258, 1256532, 437365, 1010805, 437386, 715919, 1125539, 1125544, 666794, 1780917, 666810, 666821, 666834, 175319, 666844, 175329, 666856, 666858, 1354989, 666859, 666861, 666865, 666868, 666869, 830711, 666874, 666875, 1142003, 666877, 666878, 175357, 617726, 830721, 830723, 617735, 748809, 666897, 93459, 175380, 666909, 617801, 175449, 60773, 1109352, 1142121, 1109364, 175478, 1142145, 1420674, 568716, 1420687, 617881, 175521, 1142188, 44469, 306629, 1338825, 175593, 945665, 618014, 536108, 618036, 699963, 618048, 618054, 1142344, 1109594, 1109600, 372328, 765546, 618100, 618102, 716412, 618110, 93826, 618115, 618116, 1142402, 61064, 618124, 945808, 93843, 1142424, 1781402, 61116, 1142460, 1781436, 995017, 93913, 995034, 1781471, 995042, 470762, 61172, 470773, 61176, 1142531, 159504, 1109795, 1322801, 192315, 1142593, 159558, 1617734, 1142602, 159580, 1617758, 61303, 1159035, 61316, 159626, 536462, 61345, 159678, 241601, 1781719, 651232, 159721, 1585134, 208881, 339954, 159731, 126974, 1404945, 1339415, 1339416, 159782, 159783, 159791, 569406, 1011775, 159820, 159828, 159843, 159854, 159864, 209046, 1421470, 1142943, 159936, 159960, 1765596, 159979, 176363, 176366, 61680, 61704, 61708, 176399, 176409, 61733, 61743, 61752, 61757, 28993, 160068, 1421637, 61766, 1765701, 61780, 176471, 307555, 1782116, 61798, 160116, 61817, 405884, 1601939, 127391, 897443, 979373, 61879, 1765818, 766399, 1667524, 1765830, 1536464, 1782245, 897514, 61940, 1765880, 61946, 61960, 61992, 1191156, 1765934, 717378, 62021, 62035, 1765972, 1765975, 1143412, 1766006, 1766024, 62113, 1045168, 1045171, 1045172, 62133, 1045173, 242359, 176824, 1045174, 1045176, 1143477, 1045180, 1766071, 1766074, 1045185, 1143489, 1045188, 1143495, 62155, 701132, 1438418, 1045205, 62170, 1143518, 62175, 1045216, 62178, 1045221, 1143528, 1045235, 1766148, 160523, 1045259, 78609, 176914, 1045266, 62233, 1143579, 324384, 1045283, 1045299, 242490, 242492, 1045309, 1635138, 1045315, 1635139, 1045317, 1635144, 1143625, 1045323, 1766225, 471891, 1045332, 1045333, 1143642, 619357, 1569638, 619369, 1045353, 1045365, 1143670, 1045367, 1045372, 1766275, 45975, 1045406, 1045413, 1045428, 1143736, 1766331, 1045440, 1143751, 62412, 1045461, 1422298, 1782752, 1602546, 62463, 603141, 1143818, 1766423, 1143834, 1766428, 1766440, 767049, 1619017, 1766473, 1766474, 1766483, 1143895, 1766496, 1143928, 1766530, 62612, 1143957, 62614, 1275032, 324765, 1143966, 62627, 1127592, 1766568, 1143986, 1766583, 1143994, 177340, 177344, 439490, 1766594, 619720, 62667, 177357, 62674, 1144022, 1684695, 62683, 1144028, 1766635, 46318, 62717, 816382, 1127685, 62734, 963858, 62741, 1144089, 1258779, 62748, 1766683, 62759, 62760, 62764, 62770, 1258806, 62775, 62786, 1766723, 963913, 161100, 62808, 423264, 193893, 62844, 1340805, 62856, 1602954, 62859, 62876, 1766812, 62878, 161186, 62899, 1766835, 1324490, 1340876, 1144269, 1144272, 1340882, 62934, 1340890, 1340893, 1340914, 1144330, 439820, 718356, 1259038, 423455, 1046056, 1340976, 374326, 1046076, 1046082, 1144396, 1144401, 63069, 1341027, 1373799, 112235, 1046132, 800381, 1046153, 685720, 1144480, 685729, 636596, 685754, 1128158, 46821, 46826, 620279, 472826, 341757, 1390339, 620302, 161563, 620315, 685860, 767786, 620335, 1046335, 1046336, 718670, 1046355, 161634, 1341291, 1144694, 1046408, 1750925, 1750930, 47007, 1570719, 1341350, 751536, 980923, 47040, 1046473, 1341395, 161748, 751611, 1128485, 1144869, 1144886, 456768, 1374273, 1144902, 1341514, 1341523, 1341532, 1341545, 424043, 424064, 1046679, 1341606, 1783975, 129202, 1145015, 1341661, 1145055, 751840, 1145062, 129256, 276715, 1046773, 1145086, 1145095, 162058, 162083, 342313, 604464, 162101, 129335, 194869, 342334, 342347, 1341811, 31093, 1341832, 965020, 1145244, 1145254, 883114, 1145270, 440769, 440770, 358851, 1341889, 1145288, 1341905, 1145301, 883161, 195035, 358880, 358898, 440871, 1391147, 473650, 440883, 473658, 358971, 1325627, 342596, 1522249, 440908, 473685, 473689, 473692, 473704, 1145460, 1030798, 1407637, 1522327, 1145505, 1407676, 1145534, 1243852, 1686222, 1129174, 752365, 1440500, 1145592, 1129214, 1555228, 1489713, 211768, 523078, 1145670, 1145673, 1506126, 1243984, 64337, 1424214, 293737, 605050, 801669, 555912, 129960, 1670063, 687029, 1686459, 687074, 1113103, 48145, 375831, 883768, 48200, 130121, 48206, 392270, 1047649, 752751, 752752, 48247, 64633, 1604756, 1014933, 1391775, 1506494, 392383, 392391, 392393, 1703115, 359645, 1653995, 195835, 195845, 195863, 392474, 163138, 343379, 163158, 392544, 834918, 163224, 359843, 359850, 359857, 359858, 359859, 1785265, 359868, 1342908, 376268, 1342928, 359892, 1408474, 1441243, 1342943, 1342946, 1342975, 605696, 605697, 441862, 1342985, 1752587, 1342990, 1654292, 245270, 1343000, 441887, 392746, 1343019, 245296, 1343024, 359986, 245301, 1343038, 196162, 1343047, 1031761, 1015387, 1343067, 1474145, 196201, 1343090, 163463, 1244814, 704150, 294566, 1343161, 1130190, 48847, 1326801, 1343187, 605908, 1343195, 245474, 392931, 294640, 1343220, 1392372, 1638138, 950015, 179969, 425752, 1605416, 704299, 180023, 360248, 180032, 458572, 163686, 769894, 819068, 1654667, 327565, 294800, 1703855, 16310, 655296, 1556478, 1063315, 1061272, 1061132, 1061244, 1062409, 1058611, 1061246, 1247389, 1062924, 1063898, 1061120, 1061187, 749106, 1061214, 1061227, 1061228, 1061245, 940085, 1065028, 1062408, 1063716, 1058682, 1061242, 1061343, 1059826, 1061285, 1061126, 1061243, 1061306, 940089, 1058683, 1059596, 1059646, 1061219, 1059500, 1061160, 1061229, 1061268, 1061309, 1061313, 1061362, 1062562, 1063081, 1060471, 1062485, 1060375, 1061293, 1069742, 1060319, 1061310, 1061635, 1062406, 1062411, 1063043, 1069741, 1253706, 1058681, 1060315, 1062663, 1062681, 1062743, 1064002, 1069743, 1253703, 1058686, 1060565, 1060575, 1061167, 1061286, 1061299, 1061335, 1061355, 1063254, 1063718, 1064580, 1059645, 1060834, 1060962, 1061230, 1061333, 1061340, 1061342, 1062428, 1062598, 1063072, 1063362, 1376243, 1253709, 1055244, 1061255, 1061256, 1062185, 1062218, 1062397, 1062665, 901722, 901726, 901730, 1060437, 1060596, 1060953, 1061139, 1061606, 1062307, 1062354, 1062419, 1062429, 1062449, 1062703, 1062723, 1062969, 1063368, 1065022, 1065027, 1065379, 1044631, 1060289, 1060964, 1061111, 1061273, 1061283, 1061366, 1062590, 1062607, 1062879, 1063132, 1063237, 1063296, 1377471, 1247488, 1265410, 1058652, 1058808, 1059224, 1059703, 1060225, 1060430, 1060627, 1060712, 1060746, 1061191, 1061218, 1061277, 1061298, 1061354, 1062341, 1062438, 1062448, 1062477, 1062671, 1063073, 1063240, 1063361, 1063868, 1063905, 1063911, 1064265, 1064298, 940088, 901727, 1058595, 1059647, 1060585, 1060929, 1060963, 1061086, 1061121, 1061180, 1061254, 1061291, 1062236, 1062246, 1062379, 1062724, 1063138, 1063243, 1063360, 1063606, 1066938, 1253712, 1055913, 1058127, 1058291, 1058612, 1059310, 1059890, 1060901, 1060939, 1061056, 1061087, 1061215, 1061247, 1061276, 1061289, 1061301, 1061307, 1061341, 1061363, 1061371, 1061634, 1062292, 1062510, 1062511, 1062516, 1062592, 1062633, 1062639, 1062725, 1062790, 1063071, 1063224, 1063369, 1063799, 1064095, 1069955, 1069957, 1253711, 1058093, 1058131, 1058904, 1059370, 1059644, 1060374, 1060487, 1061017, 1061053, 1061098, 1061112, 1061179, 1061182, 1061318, 1062217, 1062232, 1062273, 1062333, 1062441, 1062566, 1062569, 1062609, 1062624, 1062721, 1062793, 1063025, 1063142, 1063242, 1063431, 1063713, 1063715, 1063773, 1063895, 1064172, 1064371, 1065101, 1065306, 1065380, 1065433, 1069956, 1247534, 1247535, 1253702, 602002, 479828, 1057338, 1058689, 1059932, 1060039, 1060291, 1060655, 1060703, 1060709, 1060799, 1060938, 1060948, 1060970, 1061055, 1061135, 1061297, 1061303, 1062215, 1062219, 1062235, 1062254, 1062332, 1062453, 1062464, 1062479, 1062513, 1062537, 1062660, 1062685, 1062770, 1062847, 1062877, 1062893, 1063020, 1063115, 1063318, 1063430, 1063534, 1063717, 1063772, 1063812, 1063831, 1063848, 1063876, 1064094, 1064109, 1064178, 1064179, 1064251, 1064303, 1064676, 1064783, 1064788, 1065020, 1376402, 1247122, 1247516, 1247522, 1253687, 1558053, 1044627, 1056680, 1058849, 1059587, 1059588, 1059597, 1059622, 1059944, 1059989, 1060135, 1060288, 1060431, 1060570, 1060707, 1060763, 1061050, 1061217, 1061235, 1061249, 1061269, 1061352, 1061626, 1062300, 1062309, 1062331, 1062365, 1062387, 1062427, 1062432, 1062462, 1062465, 1062519, 1062610, 1062611, 1062651, 1062688, 1062699, 1062737, 1062812, 1062813, 1062814, 1062818, 1062973, 1063034, 1063118, 1063186, 1063226, 1063364, 1063435, 1063748, 1063769, 1063774, 1063823, 1063897, 1064058, 1064107, 1064182, 1064339, 1065425, 940083, 940096, 1073368, 1247496, 1247512, 1557970, 1557981, 1557984, 1558050, 1558058, 1054537, 1058318, 1058545, 1058678, 1058851, 1059083, 1059243, 1059290, 1059346, 1059564, 1059698, 1059745, 1059827, 1059859, 1059870, 1059953, 1060019, 1060273, 1060778, 1060843, 1060928, 1061001, 1061031, 1061048, 1061137, 1061183, 1061216, 1061238, 1061250, 1061251, 1061258, 1061264, 1061275, 1061295, 1061358, 1062205, 1062283, 1062327, 1062336, 1062381, 1062571, 1062738, 1062807, 1062810, 1062853, 1062995, 1063094, 1063102, 1063274, 1063384, 1063387, 1063420, 1063559, 1063609, 1063786, 1063804, 1063821, 1063842, 1064108, 1064114, 1064120, 1064268, 1064348, 1064361, 1064394, 1064584, 1065211, 1065363, 1066164, 1067352, 1067876, 1069959, 940084, 1211617, 1247457, 1247486, 1247487, 1253697, 1265276, 1789698, 358112, 1558016, 1558055, 1558056, 1558059, 1558060, 1558061, 1044629, 1054959, 1055682, 1055699, 1056120, 1056755, 1057942, 1058214, 1058650, 1058850, 1058895, 1058902, 1058903, 1058907, 1059170, 1059236, 1059237, 1059259, 1059405, 1059429, 1059484, 1059529, 1059572, 1059578, 1059788, 1059882, 1059903, 1059993, 1060061, 1060328, 1060416, 1060502, 1060549, 1060738, 1060766, 1060794, 1060855, 1060878, 1060935, 1060994, 1061030, 1061088, 1061130, 1061252, 1061261, 1061263, 1061281, 1061287, 1061294, 1061311, 1061320, 1061334, 1061339, 1061364, 930393, 930395, 930396, 930397, 930398, 930399, 930401, 930402, 1061624, 1062231, 1062239, 1062297, 1062312, 1062314, 1062337, 1062351, 1062458, 1062494, 1062497, 1062523, 1062535, 1062552, 1062559, 1062606, 1062612, 1062616, 1062664, 1062700, 1062704, 1062741, 1062870, 1062887, 1062889, 1063046, 1063064, 1063088, 1063120, 1063157, 1063303, 1063319, 1063363, 1063366, 1063418, 1063478, 1063581, 1063597, 1063610, 1063667, 1063714, 1063749, 1063770, 1063790, 1063796, 1063797, 1063798, 1063845, 1063892, 1063984, 1064043, 1064157, 1064160, 1064246, 1065225, 1065305, 1065431, 1065458, 1067752, 1069965, 940087, 940097, 1226630, 1244064, 1377942, 1247140, 1247456, 1247483, 1247502, 1247504, 1247506, 1247525, 1253710, 1789626, 1265433, 1266484, 631566, 1557965, 1557968, 1557971, 1557983, 1557985, 1558026, 1558062, 1558084, 1044099, 1044647, 1055282, 1055328, 1055660, 1055696, 1055906, 1449157, 1057675, 1057785, 1057828, 1057966, 1058280, 1058282, 1058321, 1058362, 1058416, 1058477, 1058483, 1058550, 1058576, 1058684, 1058693, 1058772, 1058786, 1058870, 1058951, 1059173, 1059183, 1059276, 1059319, 1059320, 1059321, 1059330, 1059357, 1059414, 1059449, 1059527, 1059623, 1059867, 1059937, 1059940, 1059955, 1060120, 1060126, 1060128, 1060298, 1060438, 1060439, 1060688, 1060807, 1060827, 1060861, 1060877, 1060909, 1060956, 1061122, 1061157, 1061172, 1061184, 1061225, 1061237, 1061253, 1061274, 1061315, 1061332, 1061368, 1061614, 1062222, 1062267, 1062272, 1062362, 1062364, 1062389, 1062399, 1062445, 1062446, 1062454, 1062459, 1062463, 1062469, 1062538, 1455753, 1062589, 1062604, 1062645, 1062667, 1062678, 1062680, 1062701, 1062720, 1062764, 1062896, 1062984, 1063044, 1063045, 1063054, 1063063, 1063097, 1063218, 1063298, 1063299, 1063391, 1063417, 1063505, 1063522, 1063525, 1063579, 1063710, 1063720, 1063724, 1063727, 1063852, 1063882, 1063904, 1063943, 1063955, 1064063, 1064064, 1064073, 1064089, 1064115, 1064126, 1064181, 1064250, 1064262, 1064383, 1064413, 1064416, 1064487, 1064684, 1064714, 1064735, 1064909, 1064912, 1064919, 1064923, 1064986, 1065035, 1065037, 1065038, 1065039, 1065201, 1065434, 1065858, 1066106, 1066693, 1066719, 1067030, 1068049, 1069618, 1069624, 1069745, 1073608, 1598346, 1084307, 430074, 1618900, 1247478, 1247484, 1247491, 1247500, 1247507, 1247510, 1247513, 1247528, 1253695, 1786867, 1265614, 1265938, 1266843, 1142509, 1061260, 1557973, 1557875, 1557876, 1557909, 1557910, 1557948, 1557959, 1557961, 1557969, 1558017, 1558025, 1558028, 1558047, 1558085, 774743, 775776, 911736, 1043120, 1044526, 1044638, 1044648, 1053424, 1053964, 1054535, 1054623, 1056106, 1056189, 1056215, 1056703, 1056706, 1056771, 1057557, 1057779, 1057868, 1057991, 1058035, 1058055, 1058108, 1058281, 1058347, 1058356, 1058368, 1058485, 1058494, 1058534, 1058564, 1058690, 1058705, 1058720, 1058728, 1058736, 1058742, 1058804, 1058805, 1058806, 1058834, 1058916, 1059085, 1059151, 1059203, 1059211, 1059223, 1059256, 1059279, 1059306, 1059344, 1059379, 1059383, 1059411, 1059430, 1059470, 1059482, 1059525, 1059546, 1059658, 1059674, 1059773, 1059888, 1059904, 1059949, 1060063, 1060131, 1060272, 1060331, 1060417, 1060419, 1060456, 1060470, 1060510, 1060544, 1060574, 1060578, 1060594, 1060601, 1060678, 1060689, 1060695, 1060714, 1060747, 1060751, 1060769, 1060772, 1060790, 1060793, 1060850, 1060904, 1061033, 1061094, 1061107, 1061113, 1061124, 1061173, 1061234, 1061265, 1061267, 1061271, 1061279, 1061367, 1061627, 1062208, 1062225, 1062279, 1062323, 1062372, 1062373, 1062384, 1062442, 1062455, 1062487, 1062493, 1062529, 1062543, 1062551, 1062558, 1062640, 1062675, 1062684, 1062698, 1062719, 1062800, 1062844, 1062874, 1062881, 1062883, 1062884, 1062900, 1062964, 1062965, 1063023, 1063041, 1063056, 1063095, 1063197, 1063214, 1063220, 1063222, 1063225, 1063231, 1063238, 1063260, 1063263, 1063297, 1063305, 1063338, 1063445, 1063472, 1063492, 1063517, 1063518, 1063533, 1063564, 1063592, 1063602, 1063608, 1063642, 1063666, 1063669, 1063709, 1063726, 1063763, 1063771, 1063777, 1063784, 1063810, 1063811, 1063817, 1063827, 1063832, 1063846, 1063874, 1063885, 1063917, 1063987, 1064046, 1064054, 1064177, 1064204, 1064225, 1064296, 1064304, 1064336, 1064418, 1064479, 1064547, 1064744, 1064751, 1064781, 1064811, 1064868, 1064884, 1064911, 1064922, 1064931, 1065071, 1065132, 1065334, 1065365, 1065496, 1065541, 1065608, 1065735, 1065756, 1066010, 1066465, 1067004, 1067087, 1067494, 1067551, 1067755, 1067756, 1067971, 1069609, 1069628, 1069629, 1069640, 1069967, 1070728, 688149, 688300, 1084306, 1084465, 1223494, 1227308, 1227317, 1227356, 965888, 711636, 1502428, 1244883, 1244884, 1244885, 1244886, 1377587, 1247178, 1247179, 1247473, 1247485, 1247494, 1247501, 1247511, 1247519, 1247521, 1247526, 1247531, 1253699, 1253708, 1786862, 1786866, 739955, 1789647, 1265484, 1265527, 1266254, 749105, 357567, 358105, 629312, 631563, 501176, 501177, 501178, 501179, 501180, 1026211, 1557868, 1557889, 1557892, 1557920, 1557942, 1557957, 1557974, 1557977, 1557979, 1557980, 1557982, 1557986, 1557993, 1558004, 1558032, 1558035, 1558036, 1558042, 1558046, 1558057, 1558079, 1558082, 1558081, 1558086, 1558087, 772471, 1043093, 1044115, 1044635, 1044637, 1044643, 1044646, 1044791, 1048885, 1048900, 1182204, 1053425, 1053427, 1054229, 1054231, 1054413, 1054547, 1054759, 1054817, 1054819, 1054820, 1055060, 1055246, 1055295, 1055327, 1055401, 1055468, 1055497, 1055623, 1055634, 1055777, 1055778, 1056134, 1056186, 1056220, 1056644, 1056678, 1056682, 1056749, 1056880, 1056948, 1057227, 1057312, 1057331, 1057332, 1057517, 1057576, 1057644, 1057808, 1057855, 1057885, 1057927, 1057938, 1057950, 1057957, 1057969, 1057985, 1058024, 1058061, 1058089, 1058096, 1058121, 1058141, 1058220, 1058221, 1058236, 1058257, 1058295, 1058322, 1058340, 1058417, 1058505, 1058518, 1058575, 1058609, 1058628, 1058645, 1058651, 1058659, 1058680, 1058687, 1058701, 1058704, 1058706, 1058709, 1058729, 1058812, 1058863, 1058864, 1058889, 1058925, 1058950, 1059017, 1059049, 1059136, 1059245, 1059287, 1059311, 1059313, 1059314, 1059406, 1059432, 1059441, 1059453, 1059457, 1059502, 1059526, 1583879, 1059639, 1059659, 1059673, 1059697, 1059708, 1059710, 1059723, 1059727, 1059794, 1059830, 1059831, 1059865, 1059931, 1059933, 1059945, 1059950, 1059960, 1059985, 1060020, 1060025, 1060059, 1060064, 1060066, 1060105, 1060110, 1060113, 1060117, 1060129, 1060137, 1060138, 1060161, 1060187, 1060189, 1060209, 1191282, 1060236, 1060301, 1060370, 1060441, 1060457, 1060473, 1060475, 1060488, 1060499, 1060546, 1060551, 1060566, 1060622, 1060661, 1060668, 1060716, 1060742, 1060759, 1060780, 1060787, 1060828, 1060851, 1060859, 1060863, 1060869, 1060873, 1060880, 1060927, 1060954, 1061011, 1061012, 1061025, 1061051, 1061089, 1061114, 1061220, 1061224, 1061257, 1061259, 1061266, 1061280, 1061292, 1061327, 1061328, 1061331, 1061338, 1061615, 1062240, 1062242, 1062275, 1062296, 1062325, 1062334, 1062342, 1062344, 1062352, 1062360, 1062375, 1062452, 1455723, 1062512, 1062524, 1062526, 1062544, 1062561, 1062593, 1062628, 1062661, 1062717, 1062766, 1062786, 1062821, 1062857, 1062861, 1062876, 1062882, 1062919, 1062920, 1062929, 1062962, 1062971, 1062982, 1063022, 1063048, 1063104, 1063112, 1063114, 1063159, 1063209, 1063255, 1063262, 1063276, 1063336, 1063375, 1063376, 1063385, 1063392, 1063394, 1063425, 1063452, 1063453, 1063474, 1063485, 1063524, 1063531, 1063538, 1063541, 1063545, 1063560, 1063578, 1063586, 1063704, 1063730, 1063731, 1063747, 1063762, 1063870, 1063889, 1063969, 1063982, 1063998, 1064019, 1064040, 1064048, 1064061, 1064062, 1064066, 1064071, 1064074, 1064075, 1064110, 1064122, 1064123, 1064131, 1064144, 1064154, 1064174, 1064184, 1064194, 1064211, 1064228, 1064263, 1064264, 1064308, 1064313, 1064328, 1064342, 1064350, 1064358, 1064362, 1064363, 1064390, 1064399, 1064420, 1064421, 1064473, 1064523, 1064526, 1064527, 1064555, 1064559, 1064587, 1064601, 1064609, 1195790, 1064724, 1064777, 1064790, 1064832, 1064899, 1064906, 1064913, 1065026, 1065030, 1065065, 1065075, 1065108, 1065163, 1065169, 1065179, 1065223, 1065325, 1065352, 1065399, 1065409, 1065410, 1065424, 1065530, 1065532, 1065576, 1065596, 1065643, 1065685, 1065724, 1065732, 1065791, 1065792, 1065880, 1065964, 1066009, 1066070, 1066091, 1066116, 1066122, 1066317, 1066523, 1066646, 1066881, 1067126, 1067217, 1067296, 1067319, 1067354, 1067422, 1067512, 1067757, 1067800, 1067863, 1067873, 1067874, 1068109, 1068161, 1068200, 1068317, 1068386, 1068767, 1069606, 1069610, 1069616, 1069617, 1069635, 1069637, 1069638, 1069641, 1069642, 1070069, 940099, 1073614, 1598163, 1734238, 1079889, 1211608, 1211611, 1084002, 1084209, 1084302, 1084303, 1086477, 1218581, 433531, 697109, 1223487, 1223581, 1618901, 1618902, 1227309, 1227384, 572618, 572645, 572878, 1752837, 184609, 711132, 1241407, 1505790, 1505792, 1505793, 1244847, 1377584, 1247074, 1247081, 1247124, 1247161, 1247180, 1247181, 1247202, 1247232, 1247243, 1247279, 1247288, 1247463, 1247482, 1247492, 1247495, 1247503, 1247518, 1247520, 1247524, 1247532, 1247536, 1247537, 1247538, 467079, 475409, 1786922, 1786923, 1786926, 1132168, 1789624, 1789639, 1789666, 1789699, 1265591, 1265827, 1265939, 1266005, 1266255, 1266645, 612402, 1138483, 1659293, 358560, 1017473, 1151174, 1153955, 1156445, 900274, 1163740, 1557853, 1557854, 1557881, 1557884, 1557899, 1557902, 1557911, 1557917, 1557918, 1557928, 1557934, 1557938, 1557952, 1557953, 1557958, 1557998, 1558000, 1558001, 1558002, 1558006, 1558009, 1558010, 1558014, 1558030, 1558037, 1558039, 1558041, 1558043, 1558048, 1558049, 1558066, 1558064, 1558065, 1558068, 1558077, 1558092, 1558105, 1041528, 1041589, 1041948, 1042215, 1042571, 1042784, 1042936, 1044015, 1044090, 1044107, 1044109, 1044111, 1044114, 1044289, 1044524, 1044527, 1044618, 1044628, 1044641, 1044672, 1044678, 1438465, 1046431, 1046628, 1047531, 1048300, 1048956, 1049125, 1050727, 1050729, 1050731, 1050736, 134244, 790092, 1052992, 1053965, 1053966, 1053982, 1054002, 1054017, 1054024, 1054038, 1054302, 1054314, 1054330, 1054343, 1054366, 1054394, 1054520, 1054555, 1054617, 1054630, 1054667, 1054670, 1054688, 1054794, 1054799, 1054850, 1054877, 1054896, 1054943, 1054962, 1055019, 1055082, 1055332, 1055342, 1055395, 1055415, 1055441, 1055558, 1055559, 1055600, 1055668, 1055675, 1055681, 1055692, 1055705, 1055861, 1055887, 1055948, 1449177, 1056003, 1056057, 1056128, 1056133, 1056152, 1056218, 1056244, 1056245, 1056246, 1056294, 1056673, 1056738, 1056770, 1056848, 1056865, 1056873, 1057096, 1057097, 1057101, 1057133, 1057167, 1057340, 1057413, 1057548, 1057564, 1057588, 1057590, 1057593, 1057676, 1057728, 1057748, 1057786, 1057793, 1057822, 1057847, 1057910, 1057924, 1057954, 1057970, 1057984, 1057987, 1058001, 1058025, 1058044, 1058056, 1058118, 1058119, 1058165, 1058332, 1058365, 1058367, 1058385, 1058401, 1058420, 1058440, 1058480, 1058482, 1058515, 1058531, 1058536, 1058571, 1058604, 1058626, 1058654, 1058675, 1058691, 1058734, 1058767, 1058803, 1058825, 1058838, 1058860, 1058862, 1058886, 1058909, 1058956, 1058976, 1058991, 1058992, 1059048, 1059053, 1059068, 1059084, 1059086, 1059115, 1059141, 1059147, 1059185, 1059204, 1059208, 1059246, 1059258, 1059268, 1059275, 1059294, 1059312, 1059341, 1059381, 1059397, 1059398, 1059425, 1059426, 1059431, 1059447, 1059464, 1059480, 1059539, 1059563, 1059565, 1059567, 1059584, 1059594, 1059649, 1059664, 1059666, 1059667, 1059758, 1059772, 1059776, 1059779, 1059802, 1059878, 1059885, 1059891, 1059927, 1059934, 1059956, 1059961, 1059964, 1059966, 1059988, 1059990, 1060013, 1060022, 1060046, 1060076, 1060079, 1060087, 1060118, 1060127, 1060132, 1060180, 1060182, 1060190, 1060201, 1060204, 1060278, 1060293, 1060294, 1060311, 1060316, 1060354, 1060357, 1060421, 1060427, 1060429, 1060433, 1060446, 1060455, 1060458, 1060459, 1060485, 1060525, 1060533, 1060548, 1060604, 1060662, 1060692, 1060724, 1060755, 1060760, 1060791, 1060849, 1060868, 1060922, 1060931, 1060949, 1060951, 1060976, 1061019, 1061064, 1061117, 1061131, 1061186, 1061240, 1061337, 1061346, 1061347, 1061350, 1061575, 1062210, 1062227, 1062293, 144836, 1062346, 1062347, 1062383, 1062388, 1062396, 1062422, 1062472, 1062473, 1062482, 1062483, 1455752, 1062583, 1062614, 1062638, 1062669, 1062708, 1062709, 1062710, 1062728, 1062785, 1062788, 1062817, 1062827, 1062831, 1062841, 1062875, 1062906, 1062909, 1062970, 1063031, 1063105, 1063155, 1063162, 1063181, 1063201, 1063249, 1063251, 1063267, 1063277, 1063281, 1063314, 1063317, 1063328, 1063350, 1063419, 1063421, 1063456, 1063481, 1063491, 1063499, 1063500, 1063508, 1063521, 1063526, 1063540, 1063551, 1063573, 1063577, 1063591, 1063594, 1063603, 1063625, 1063630, 1063633, 1063634, 1063635, 1063638, 1063639, 1063656, 1063670, 1063680, 1063681, 1063683, 1063686, 1063725, 1063728, 1063733, 1063739, 1063764, 1063765, 1063780, 1063783, 1063839, 1063847, 1063854, 1063859, 1063873, 1063891, 1063913, 1063921, 1063973, 1064000, 1064012, 1064018, 1064055, 1064069, 1064070, 1064101, 1064106, 1064113, 1064117, 1064230, 1064240, 1064255, 1064280, 1064288, 1064297, 1064321, 1064327, 1064386, 1064387, 1064410, 1064429, 1064446, 1064470, 1064537, 1064682, 1064713, 1064738, 1064760, 1064761, 1064767, 1064770, 1064786, 1064787, 1064789, 1064845, 1064848, 1064852, 1064872, 1064891, 1064930, 1064955, 1064963, 1064976, 1064980, 1064985, 1065029, 1065049, 1065063, 1065072, 1065084, 1065095, 1065103, 1065148, 1065168, 1065248, 1065279, 1065293, 1065303, 1065310, 1065311, 1065316, 1065326, 1065355, 1065358, 1065359, 1065402, 1065411, 1065423, 1065438, 1065441, 1065447, 1065477, 1065478, 1065483, 1065487, 1065504, 1065517, 1065542, 1065565, 1065583, 1065586, 1065600, 1065635, 1065648, 1065687, 1065768, 1065786, 1065810, 1065859, 1065860, 1065861, 1065967, 1066018, 1066026, 1066073, 1066305, 1066316, 1066364, 1066421, 1066449, 1066451, 1066601, 1066605, 1066606, 1066623, 1066657, 1066720, 1066731, 1066747, 1066807, 1066863, 1066892, 1066945, 1066946, 1067029, 1067056, 1067071, 1067088, 1067281, 1067282, 1067353, 1067470, 1198689, 1067832, 1067879, 1067889, 1067898, 1067909, 1068009, 1592398, 1068150, 1199225, 1068165, 1068168, 1068179, 1068201, 1068203, 1068219, 1068232, 1068246, 1068368, 1068413, 1068702, 1068787, 1068791, 1068814, 1068880, 1068889, 1069603, 1069611, 1069612, 1069613, 1069626, 1069632, 1069639, 1069643, 1069683, 1069916, 1069989, 1070050, 1070062, 1070326, 1070744, 940070, 940222, 940228, 547673, 1073609, 1073716, 1073717, 1073718, 1073719, 1598164, 1598341, 1598349, 1598429, 1075442, 1078052, 1079881, 1079885, 1081921, 1081922, 1606349, 1083997, 1084089, 1084207, 1084272, 1084282, 1084319, 1084466, 1084467, 1084832, 954242, 1217827, 1481551, 1618903, 1618904, 1488728, 1227365, 1227366, 1227389, 572554, 572557, 572591, 572605, 572606, 572607, 572614, 572646, 572648, 1228815, 711131, 711606, 711607, 711608, 711660, 319303, 319304, 1502394, 1111340, 1244061, 1376091, 1245624, 1245705, 1376968, 1376976, 328942, 328943, 328945, 1377585, 1377586, 1377588, 1377589, 1377775, 329359, 1247086, 1247101, 1247104, 1247108, 1247111, 1247112, 1247123, 1247135, 1247143, 1247146, 1247152, 1247153, 1247154, 1247170, 1247183, 1247184, 1247185, 1247194, 1247195, 1247198, 1247201, 1247208, 1247211, 1247212, 1247213, 1247217, 1247219, 1247220, 1247221, 1247235, 1247246, 1247251, 1247260, 1247262, 1247277, 1247282, 1247289, 1247458, 1247462, 1247477, 1247481, 1247499, 1247523, 1247529, 1247530, 593405, 595392, 467082, 995048, 601897, 1786865, 1786924, 1786925, 1786927, 1786928, 1786929, 1786930, 1786931, 1132163, 1132169, 739095, 1132596, 1265268, 1265307, 1789642, 1789644, 1789667, 1265548, 1265612, 1265734, 1266073, 1266084, 1266227, 1266246, 1266251, 1266303, 742055, 1266385, 1266432, 1266433, 1266518, 1266524, 612404, 612405, 743592, 219926, 1270301, 354794, 749081, 881551, 357492, 357531, 357542, 357547, 357554, 357561, 357568, 357569, 357585, 358040, 358055, 358117, 358142, 358206, 358233, 358257, 358566, 752064, 1014393, 1014404, 1015103, 626799, 626802, 628187, 1152530, 629174, 629517, 1558040, 1549370, 1156444, 501387, 1030458, 1030465, 899682, 900843, 1377591, 901747, 1557856, 1557860, 1557874, 1557877, 1557883, 1557888, 1557891, 1557898, 1557905, 1557924, 1557927, 1557929, 1557930, 1557935, 1557939, 1557941, 1557944, 1557947, 1557949, 1557950, 1557951, 1557954, 1557956, 1557960, 1557962, 1557963, 1557964, 1557975, 1557976, 1557978, 1557994, 1557995, 1558005, 1558008, 1558011, 1558012, 1558013, 1558007, 1558015, 1558020, 1558021, 1558022, 1558024, 1558029, 1558031, 1558033, 1558034, 1558038, 1558044, 1558045, 1558051, 1558052, 1558069, 1558072, 1558073, 1558074, 1558075, 1558078, 1558088, 1558089, 1558090, 1558091, 1558099, 1558102, 772493, 774332, 774511, 1036781, 384253, 1040194, 1041694, 1041755, 1041818, 1041938, 1042004, 1042226, 1042342, 1042469, 1042507, 1042610, 1043821, 257626, 1044079, 1044085, 1044096, 1044100, 1044103, 1044105, 1044106, 1044250, 1044256, 1044522, 1044523, 1044528, 1044571, 1044596, 1044630, 1044636, 520355, 1044649, 1044654, 1044741, 1044828, 1438462, 1438466, 1045863, 1048372, 1048884, 1048895, 1048906, 1048936, 1049166, 1049334, 1049378, 1049396, 1049499, 1049607, 1049608, 1443649, 527384, 920945, 790097, 1052883, 135413, 1052990, 1053000, 1053020, 1053021, 1053421, 1053582, 1053798]"
     ]
    },
    {
     "name": "stdout",
     "output_type": "stream",
     "text": [
      "\n"
     ]
    }
   ],
   "source": [
    "print(D[:5000])"
   ]
  }
 ],
 "metadata": {
  "kernelspec": {
   "display_name": "Python 3",
   "language": "python",
   "name": "python3"
  },
  "language_info": {
   "codemirror_mode": {
    "name": "ipython",
    "version": 3
   },
   "file_extension": ".py",
   "mimetype": "text/x-python",
   "name": "python",
   "nbconvert_exporter": "python",
   "pygments_lexer": "ipython3",
   "version": "3.6.1"
  }
 },
 "nbformat": 4,
 "nbformat_minor": 2
}
