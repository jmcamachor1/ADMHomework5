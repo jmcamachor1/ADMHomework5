{
 "cells": [
  {
   "cell_type": "code",
   "execution_count": 1,
   "metadata": {
    "collapsed": true
   },
   "outputs": [],
   "source": [
    "#import libraries\n",
    "from collections import defaultdict , Counter ,OrderedDict, deque\n",
    "import json\n",
    "import gzip\n",
    "import networkx as nx\n",
    "from tqdm import tqdm_notebook as tqdm\n",
    "from collections import deque, defaultdict\n",
    "from tqdm import tqdm_notebook as tqdm\n",
    "import gzip\n",
    "import functools\n",
    "import json\n",
    "from functions_used_1 import *\n",
    "import time"
   ]
  },
  {
   "cell_type": "markdown",
   "metadata": {},
   "source": [
    "## Research question 1"
   ]
  },
  {
   "cell_type": "markdown",
   "metadata": {},
   "source": [
    "From [Wikicat hyperlink graph](https://drive.google.com/file/d/1ghPJ4g6XMCUDFQ2JPqAVveLyytG8gBfL/view), it is downloaded a file which contains a reduced version of the Wikipedia graph of the one found SNAP. In this file, every row is equivalent to a node and the two elements are the nodes source (first) and destination(second). Using this information, it will be built the graph $G=(V,E)$, where $V$ is the set of articles and $E$ the hyperlinks among them. In addition, it will be provided the following information about the graph:\n",
    "\n",
    "* The number of nodes\n",
    "* The number of edges\n",
    "* The graph is directed or undirected\n",
    "* The graph is dense or sparse\n",
    "* The average node degree\n",
    "\n",
    "\n",
    "First, it is computed the number of nodes of $G$."
   ]
  },
  {
   "cell_type": "code",
   "execution_count": 2,
   "metadata": {
    "collapsed": true
   },
   "outputs": [],
   "source": [
    "#read reduced Wikipedia graph file\n",
    "op = open('wiki-topcats-reduced.txt', 'r', encoding=\"utf-8\")\n",
    "GVE= (op.read())\n",
    "op.close()"
   ]
  },
  {
   "cell_type": "code",
   "execution_count": 3,
   "metadata": {},
   "outputs": [
    {
     "name": "stdout",
     "output_type": "stream",
     "text": [
      "The number of nodes is 461193.\n"
     ]
    }
   ],
   "source": [
    "#set with all the nodes\n",
    "V=set(GVE.split()) \n",
    "print(\"The number of nodes is \"+str(len(V))+\".\")"
   ]
  },
  {
   "cell_type": "markdown",
   "metadata": {},
   "source": [
    "Below, it is computed the number of edges:"
   ]
  },
  {
   "cell_type": "code",
   "execution_count": 4,
   "metadata": {},
   "outputs": [
    {
     "name": "stdout",
     "output_type": "stream",
     "text": [
      "The number of edges is 2645247.\n"
     ]
    }
   ],
   "source": [
    "a=GVE.split()\n",
    "E=([a[i]+\" \"+a[i+1] for i in range(0,len(a),2)])\n",
    "print(\"The number of edges is \" +str(len(E))+\".\")"
   ]
  },
  {
   "cell_type": "markdown",
   "metadata": {},
   "source": [
    "Then, the graph $G$ is composed by the sets $V$ and $E$ already computed.\n",
    "\n",
    "In order to see if $G$ is directed or undirected, it is computed the adjacency list of the graph, $Adj$. The adjacency list by definition is an array(in our case it will be created a dictionary) of $|V|$ lists that for each vertex $u\\in V$, $Adj[u]$ contains all the vertices $v$ such that there is an edge $(u,v)\\in E$."
   ]
  },
  {
   "cell_type": "code",
   "execution_count": 5,
   "metadata": {
    "collapsed": true
   },
   "outputs": [],
   "source": [
    "#creation of the adjacency list using default dictionary\n",
    "m=defaultdict(list)\n",
    "for i,j in zip(*[iter(GVE.split())]*2):\n",
    "       m[int(i)]+=[int(j)]"
   ]
  },
  {
   "cell_type": "markdown",
   "metadata": {},
   "source": [
    "Below, it is computed the sum of the lengths of all adjacency lists because the graph is directed if the sum is equal to $|E|$ and undirected if the sum is equal to $2|E|$.\n"
   ]
  },
  {
   "cell_type": "code",
   "execution_count": 6,
   "metadata": {},
   "outputs": [
    {
     "data": {
      "text/plain": [
       "2645247"
      ]
     },
     "execution_count": 6,
     "metadata": {},
     "output_type": "execute_result"
    }
   ],
   "source": [
    "#dictionary :key:value->node:length of adjacency list\n",
    "length_adj= {k:len(v) for k, v in m.items()}\n",
    "#sum of all the lengths of the lists\n",
    "sum(list(length_adj.values())) "
   ]
  },
  {
   "cell_type": "markdown",
   "metadata": {},
   "source": [
    "As the sum of the lenghts of all adjacency lists is equal to $|E|$, the graph is directed.\n",
    "\n",
    "It is possible to know if the graph is dense or sparse comparing the values of $|V|^2$ and $|E|$. Below are computed these two values:"
   ]
  },
  {
   "cell_type": "code",
   "execution_count": 7,
   "metadata": {},
   "outputs": [
    {
     "name": "stdout",
     "output_type": "stream",
     "text": [
      "The cardinality of the set of edges is 2645247.\n",
      "The cardinality of the set of nodes power 2 is 212698983249.\n"
     ]
    }
   ],
   "source": [
    "print(\"The cardinality of the set of edges is \"+str(len(E))+\".\")\n",
    "print(\"The cardinality of the set of nodes power 2 is \"+str(len(V)**2)+\".\")"
   ]
  },
  {
   "cell_type": "markdown",
   "metadata": {},
   "source": [
    "Due to the fact that $|E|<<|V|^2$, the graph $G$ is sparse.\n",
    "\n",
    "Below, it is computed the average node degree which is the average number of edges that a node is incident with. This is obtained in this case with the formula $\\frac{|E|}{|V|}$. "
   ]
  },
  {
   "cell_type": "code",
   "execution_count": 8,
   "metadata": {},
   "outputs": [
    {
     "name": "stdout",
     "output_type": "stream",
     "text": [
      "The average node degree is 5.735661642739591.\n"
     ]
    }
   ],
   "source": [
    "print('The average node degree is '+str(len(E)/len(V))+\".\")"
   ]
  },
  {
   "cell_type": "markdown",
   "metadata": {},
   "source": [
    "## Research question 2"
   ]
  },
  {
   "cell_type": "markdown",
   "metadata": {},
   "source": [
    "In this section, it is used the file <code>wiki-topcats-categories.txt.gz</code> where the articles are grouped by categories. "
   ]
  },
  {
   "cell_type": "code",
   "execution_count": 9,
   "metadata": {
    "collapsed": true
   },
   "outputs": [],
   "source": [
    "#reading categories files\n",
    "with gzip.open('wiki-topcats-categories.txt.gz') as f:\n",
    "    categories_file = f.read()"
   ]
  },
  {
   "cell_type": "markdown",
   "metadata": {},
   "source": [
    "Then, it is created a dictionary where the keys are each one of the categories and the values a list with the articles belonging to the category indicated by the key."
   ]
  },
  {
   "cell_type": "code",
   "execution_count": 10,
   "metadata": {
    "collapsed": true
   },
   "outputs": [],
   "source": [
    "#dictionary with all categories and all the articles that belong \n",
    "category_dict=defaultdict(list)\n",
    "for i in categories_file.split():\n",
    "    if i.isdigit()==False: \n",
    "        key=str(i)[11:-2]\n",
    "    else:\n",
    "        category_dict[key]+=[int(i)]"
   ]
  },
  {
   "cell_type": "markdown",
   "metadata": {},
   "source": [
    "It will be just considered the categories that has a number of articles greater than 3500."
   ]
  },
  {
   "cell_type": "code",
   "execution_count": 11,
   "metadata": {
    "collapsed": true
   },
   "outputs": [],
   "source": [
    "#dictionary with categories with more than 3500 elements\n",
    "category_dict_1= {k:(v) for k, v in category_dict.items() if len(v)>3500}"
   ]
  },
  {
   "cell_type": "code",
   "execution_count": 12,
   "metadata": {},
   "outputs": [
    {
     "name": "stdout",
     "output_type": "stream",
     "text": [
      "In fact, it is considered 35 categories.\n"
     ]
    }
   ],
   "source": [
    "print('In fact, it is considered '+str(len(category_dict_1))+\" categories.\" )"
   ]
  },
  {
   "cell_type": "markdown",
   "metadata": {},
   "source": [
    "Then, from the previous dictionary it is just taken into account the elements which are in the reduced version of the graph provided for the homework."
   ]
  },
  {
   "cell_type": "code",
   "execution_count": 13,
   "metadata": {
    "collapsed": true
   },
   "outputs": [],
   "source": [
    "#creation of dictionary with categories with more than 3500 elements and whose elements are in the reduced graph\n",
    "A=set(list(map(int,list(V))))\n",
    "category_dict_2={k:A.intersection(v) for k,v  in category_dict_1.items()}"
   ]
  },
  {
   "cell_type": "markdown",
   "metadata": {},
   "source": [
    "Then, given an input category $C_0$, with the aim of ordering the categories it is built a block ranking: \n",
    "\\begin{equation}\n",
    "block_{RANKING} =\\begin{bmatrix} C_0 \\\\ C_1 \\\\ \\dots \\\\ C_c\\\\ \\end{bmatrix}\n",
    "\\end{equation}\n",
    "where each $C_i$ is a category which contains a list of nodes.\n",
    "\n",
    "The first category of the rank $C_0$, always corresponds to the input category. The order of the remaining categories is given by:\n",
    "\n",
    "\\begin{equation}\n",
    "distance(C_0, C_i) = median(ShortestPath(C_0, C_i))\n",
    "\\end{equation}\n",
    "\n",
    "The lower is the distance from $C_0$, the higher is $C_i$ in the rank. $ShortestPath(C_0, C_i)$ is the set of all the possible shortest paths between the nodes of $C_0$ and $C_i$. For this case, it is considered the length of a path as the sum of the edges it is composed by.\n",
    "\n",
    "In order to compute the shortest path, it is used the Breadth-First Search (BFS) due to the fact that the solutions obtained with the BFS are optimal because of the theorem of Correctness of Breadth-First search. As $|E|$ and $|V|$ are very high, in order to compute the median of the set of shortest paths between the elements of categories $C_i$ and $C_0$, it will be used the following stategy:\n",
    "\n",
    "* It is calculated the distances from all the articles in the category $C_0$ in the graph to all other nodes of the graph using BFS and they are stored in a dictionary whose keys are the destination nodes. \n",
    "\n",
    "* The values are grouped in each category.\n",
    "* To compute the median for each category, it is taken into account that if all the nodes are connected there will be $|C_0|\\times|C_i|$ distance values('Ideal cardinality'). When this is not the case, it means that there are some nodes which are unconnected and thereby unreachable. In this situation, the distance is considered as infinite, that for practical reasons in this report will be symbolised with the value 9999999999 afterwards. However, these values are not computed using the BFS, since the algorithm cannot reach those nodes. Nevertheless, as we know what would be the  'Ideal cardinality' we do not need to store them, just consider as they were there, since the median is the middle elements when the cardinality is an odd number and the mean of the n and n+1 element when the number of elements is odd. Therefore, for each category $C_i$, the difference in number of elements between the cardinality obtained and 'Ideal cardinality' are considered as infinite. \n",
    "\n",
    "The input category $C_0$ considered is \"Years_of unknown\". As it was said before first it is computed the distances from all the nodes in $C_0$ to all the other using Breadth First Search."
   ]
  },
  {
   "cell_type": "code",
   "execution_count": 17,
   "metadata": {},
   "outputs": [
    {
     "data": {
      "application/vnd.jupyter.widget-view+json": {
       "model_id": "31374e68245b4cafb83d5f8576c49f14"
      }
     },
     "metadata": {},
     "output_type": "display_data"
    },
    {
     "name": "stdout",
     "output_type": "stream",
     "text": [
      "\n"
     ]
    }
   ],
   "source": [
    "#creation of dictionary whose keys are source vectors and the values stored are all distances \n",
    "dfault=defaultdict(list)\n",
    "kl=deque([])\n",
    "for i in tqdm(category_dict_2[\"Year_of_birth_unknown\"]):\n",
    "    for k,j in (BFS_13(m,i).items()):\n",
    "        dfault[int(k)]+=[int(j)]\n",
    "        "
   ]
  },
  {
   "cell_type": "markdown",
   "metadata": {},
   "source": [
    "The dictionary with the distances was saved in order to not run the whole search again."
   ]
  },
  {
   "cell_type": "code",
   "execution_count": 19,
   "metadata": {
    "collapsed": true
   },
   "outputs": [],
   "source": [
    "#the dictionary with all distances are stored in a txt.file\n",
    "with open('BFS_Result.txt', 'w') as f: \n",
    "    json.dump(dfault, f)"
   ]
  },
  {
   "cell_type": "code",
   "execution_count": 14,
   "metadata": {
    "collapsed": true
   },
   "outputs": [],
   "source": [
    "#the dictionary with all distances is loaded in a variable\n",
    "with open('BFS_Result.txt') as f: \n",
    "    bfsresult = json.load(f)\n"
   ]
  },
  {
   "cell_type": "markdown",
   "metadata": {},
   "source": [
    "Then the block ranking is computed with the stretegy explained before: "
   ]
  },
  {
   "cell_type": "code",
   "execution_count": 15,
   "metadata": {},
   "outputs": [
    {
     "data": {
      "application/vnd.jupyter.widget-view+json": {
       "model_id": "1e5a9457f0c74c0a9ef18b017ad316f3"
      }
     },
     "metadata": {},
     "output_type": "display_data"
    },
    {
     "data": {
      "application/vnd.jupyter.widget-view+json": {
       "model_id": "63f6a014e3724d82818777e6aeb606c2"
      }
     },
     "metadata": {},
     "output_type": "display_data"
    },
    {
     "data": {
      "application/vnd.jupyter.widget-view+json": {
       "model_id": "dec8e169dfdb41cca1ad8873bf696cfc"
      }
     },
     "metadata": {},
     "output_type": "display_data"
    },
    {
     "data": {
      "application/vnd.jupyter.widget-view+json": {
       "model_id": "18dbc6c6f3ec46c78b352b7cee795167"
      }
     },
     "metadata": {},
     "output_type": "display_data"
    },
    {
     "data": {
      "application/vnd.jupyter.widget-view+json": {
       "model_id": "900d38c8949447afbbdf3746e0e666ce"
      }
     },
     "metadata": {},
     "output_type": "display_data"
    },
    {
     "data": {
      "application/vnd.jupyter.widget-view+json": {
       "model_id": "74f39276d9424cf69cd52f4003796362"
      }
     },
     "metadata": {},
     "output_type": "display_data"
    },
    {
     "data": {
      "application/vnd.jupyter.widget-view+json": {
       "model_id": "16c23b7706a041d9bd72ec95d17eafa5"
      }
     },
     "metadata": {},
     "output_type": "display_data"
    },
    {
     "data": {
      "application/vnd.jupyter.widget-view+json": {
       "model_id": "1f2cd1a55c8246c08642997564d15745"
      }
     },
     "metadata": {},
     "output_type": "display_data"
    },
    {
     "data": {
      "application/vnd.jupyter.widget-view+json": {
       "model_id": "0f34cd4b9751414da526718ceadfeb8b"
      }
     },
     "metadata": {},
     "output_type": "display_data"
    },
    {
     "data": {
      "application/vnd.jupyter.widget-view+json": {
       "model_id": "d129653d36ec4a17a8239f9a2b70943e"
      }
     },
     "metadata": {},
     "output_type": "display_data"
    },
    {
     "data": {
      "application/vnd.jupyter.widget-view+json": {
       "model_id": "3ef80fb0b8c9430282fe1be2ec1ee685"
      }
     },
     "metadata": {},
     "output_type": "display_data"
    },
    {
     "data": {
      "application/vnd.jupyter.widget-view+json": {
       "model_id": "aaf3bb134c3a48858951c25957fc6b50"
      }
     },
     "metadata": {},
     "output_type": "display_data"
    },
    {
     "data": {
      "application/vnd.jupyter.widget-view+json": {
       "model_id": "9f75ad2836934634a45178a5850bff5e"
      }
     },
     "metadata": {},
     "output_type": "display_data"
    },
    {
     "data": {
      "application/vnd.jupyter.widget-view+json": {
       "model_id": "10843d18264743bd9dec8cb80a24bd11"
      }
     },
     "metadata": {},
     "output_type": "display_data"
    },
    {
     "data": {
      "application/vnd.jupyter.widget-view+json": {
       "model_id": "cb488c9ec54a4e988c008ecaeb29fac7"
      }
     },
     "metadata": {},
     "output_type": "display_data"
    },
    {
     "data": {
      "application/vnd.jupyter.widget-view+json": {
       "model_id": "9c67ceab102d46518834391c19d6608c"
      }
     },
     "metadata": {},
     "output_type": "display_data"
    },
    {
     "data": {
      "application/vnd.jupyter.widget-view+json": {
       "model_id": "0e61b0e2212e4a88a6e4987e03e15ea5"
      }
     },
     "metadata": {},
     "output_type": "display_data"
    },
    {
     "data": {
      "application/vnd.jupyter.widget-view+json": {
       "model_id": "37de3de3f9fc47278bcb156ace0e9f3f"
      }
     },
     "metadata": {},
     "output_type": "display_data"
    },
    {
     "data": {
      "application/vnd.jupyter.widget-view+json": {
       "model_id": "25e0efc2c9384a8a957a95f38a2b7969"
      }
     },
     "metadata": {},
     "output_type": "display_data"
    },
    {
     "data": {
      "application/vnd.jupyter.widget-view+json": {
       "model_id": "fca40a73c9a6452e98f001824e40bbd9"
      }
     },
     "metadata": {},
     "output_type": "display_data"
    },
    {
     "data": {
      "application/vnd.jupyter.widget-view+json": {
       "model_id": "da30f3caf3ef420d814a061f65d1109f"
      }
     },
     "metadata": {},
     "output_type": "display_data"
    },
    {
     "data": {
      "application/vnd.jupyter.widget-view+json": {
       "model_id": "4cac6f33f5b4430a832aa4ed9d5d37d6"
      }
     },
     "metadata": {},
     "output_type": "display_data"
    },
    {
     "data": {
      "application/vnd.jupyter.widget-view+json": {
       "model_id": "05bf14d012b84c8c95fc28be5b407edf"
      }
     },
     "metadata": {},
     "output_type": "display_data"
    },
    {
     "data": {
      "application/vnd.jupyter.widget-view+json": {
       "model_id": "1f250faee15d4c119c9c5963f0be722c"
      }
     },
     "metadata": {},
     "output_type": "display_data"
    },
    {
     "data": {
      "application/vnd.jupyter.widget-view+json": {
       "model_id": "11f4108f95774f18821e62f83f45a01c"
      }
     },
     "metadata": {},
     "output_type": "display_data"
    },
    {
     "data": {
      "application/vnd.jupyter.widget-view+json": {
       "model_id": "ce67e97340e74c79b54459a57e5fb2e0"
      }
     },
     "metadata": {},
     "output_type": "display_data"
    },
    {
     "data": {
      "application/vnd.jupyter.widget-view+json": {
       "model_id": "2ac5f89b093b4889a41d47f7ea742bb4"
      }
     },
     "metadata": {},
     "output_type": "display_data"
    },
    {
     "data": {
      "application/vnd.jupyter.widget-view+json": {
       "model_id": "1fc6593d570941cebd5d8d613181d4d8"
      }
     },
     "metadata": {},
     "output_type": "display_data"
    },
    {
     "data": {
      "application/vnd.jupyter.widget-view+json": {
       "model_id": "a489df8e5a394f96bbf26364af552e0f"
      }
     },
     "metadata": {},
     "output_type": "display_data"
    },
    {
     "data": {
      "application/vnd.jupyter.widget-view+json": {
       "model_id": "5e4cca6c6e994683b2df0e4024fdb877"
      }
     },
     "metadata": {},
     "output_type": "display_data"
    },
    {
     "data": {
      "application/vnd.jupyter.widget-view+json": {
       "model_id": "8e7c5112bb84494794f5fbc3cbfa691b"
      }
     },
     "metadata": {},
     "output_type": "display_data"
    },
    {
     "data": {
      "application/vnd.jupyter.widget-view+json": {
       "model_id": "a49c78c87f524a9dab074eafae9aa122"
      }
     },
     "metadata": {},
     "output_type": "display_data"
    },
    {
     "data": {
      "application/vnd.jupyter.widget-view+json": {
       "model_id": "9eec6e3f6aef4c699b01a6c5eac92ce0"
      }
     },
     "metadata": {},
     "output_type": "display_data"
    },
    {
     "data": {
      "application/vnd.jupyter.widget-view+json": {
       "model_id": "fe73f1ffef0c4b5d87a20f1d873c2a2e"
      }
     },
     "metadata": {},
     "output_type": "display_data"
    },
    {
     "data": {
      "application/vnd.jupyter.widget-view+json": {
       "model_id": "94cf60d262664952939f32f14697c993"
      }
     },
     "metadata": {},
     "output_type": "display_data"
    },
    {
     "name": "stdout",
     "output_type": "stream",
     "text": [
      "\n"
     ]
    }
   ],
   "source": [
    "block_ranking=block_ranking_creation(category_dict_2,bfsresult, 'Year_of_birth_unknown')"
   ]
  },
  {
   "cell_type": "markdown",
   "metadata": {},
   "source": [
    "It is shown the block ranking with the corresponding value of the median for its category. The value 999999999999999999 corresponds to infinte and it means most of the nodes of that category was unconnected with the input category."
   ]
  },
  {
   "cell_type": "code",
   "execution_count": 16,
   "metadata": {},
   "outputs": [
    {
     "data": {
      "text/plain": [
       "OrderedDict([('Year_of_birth_unknown', -1),\n",
       "             ('English-language_films', 6.0),\n",
       "             ('Members_of_the_United_Kingdom_Parliament_for_English_constituencies',\n",
       "              7.0),\n",
       "             ('English_television_actors', 7.0),\n",
       "             ('British_films', 7.0),\n",
       "             ('American_films', 7.0),\n",
       "             ('American_Jews', 7.0),\n",
       "             ('American_television_actors', 7.0),\n",
       "             ('American_film_actors', 7.0),\n",
       "             ('Black-and-white_films', 7.0),\n",
       "             ('Indian_films', 8.0),\n",
       "             ('Rivers_of_Romania', 8.0),\n",
       "             ('English-language_albums', 8.0),\n",
       "             ('People_from_New_York_City', 8.0),\n",
       "             ('Article_Feedback_Pilot', 8.0),\n",
       "             ('Debut_albums', 9.0),\n",
       "             ('English_footballers', '999999999999999999'),\n",
       "             ('The_Football_League_players', '999999999999999999'),\n",
       "             ('Association_football_forwards', '999999999999999999'),\n",
       "             ('Association_football_goalkeepers', '999999999999999999'),\n",
       "             ('Association_football_midfielders', '999999999999999999'),\n",
       "             ('Association_football_defenders', '999999999999999999'),\n",
       "             ('Living_people', '999999999999999999'),\n",
       "             ('Harvard_University_alumni', '999999999999999999'),\n",
       "             ('Major_League_Baseball_pitchers', '999999999999999999'),\n",
       "             ('Year_of_death_missing', '999999999999999999'),\n",
       "             ('English_cricketers', '999999999999999999'),\n",
       "             ('Year_of_birth_missing_(living_people)', '999999999999999999'),\n",
       "             ('Main_Belt_asteroids', '999999999999999999'),\n",
       "             ('Asteroids_named_for_people', '999999999999999999'),\n",
       "             ('Fellows_of_the_Royal_Society', '999999999999999999'),\n",
       "             ('Year_of_birth_missing', '999999999999999999'),\n",
       "             ('Place_of_birth_missing_(living_people)', '999999999999999999'),\n",
       "             ('American_military_personnel_of_World_War_II',\n",
       "              '999999999999999999'),\n",
       "             ('Windows_games', '999999999999999999')])"
      ]
     },
     "execution_count": 16,
     "metadata": {},
     "output_type": "execute_result"
    }
   ],
   "source": [
    "block_ranking"
   ]
  },
  {
   "cell_type": "markdown",
   "metadata": {},
   "source": [
    "Once the $block_{RANKING}$ vector is obtained , the nodes in each category are sorted. The way this is done is explained below.\n",
    "Suppose the categories order, given from the previous point, are $C_0, C_1 \\ldots, C_n$.\n",
    "\n",
    "* It is computed the subgraph induced by $C_0$. For each node compute the sum of the weigths of the in-edges, that is to say,\n",
    "\\begin{equation}\n",
    "score_{article_i} = \\sum_{j \\in in-edges(article_i)} w_j\n",
    "\\end{equation}\n",
    "* The graph is extended to the nodes that belong to $C_1$. Thus, for each article in $C_1$ it is computed the score as before. Note that the in-edges coming from the previous category, $C_0$, have as weights the score of the node that sends the edge.\n",
    "\n",
    "* The previous step is repeated up to the last category of the ranking. \n",
    "\n",
    "Before, doing the process described above, the articles which are in several categories are just considered, among the categories they belong to, to the closest to the input category. This is done below:"
   ]
  },
  {
   "cell_type": "code",
   "execution_count": 17,
   "metadata": {},
   "outputs": [
    {
     "data": {
      "application/vnd.jupyter.widget-view+json": {
       "model_id": "1a5b4113a8324769a63e7a0e9b6fb09d"
      }
     },
     "metadata": {},
     "output_type": "display_data"
    },
    {
     "name": "stdout",
     "output_type": "stream",
     "text": [
      "\n"
     ]
    }
   ],
   "source": [
    "#block ranking with just names(no distances)\n",
    "block_ranking_names=block_ranking.keys()\n",
    "#categories without repeated elements\n",
    "filter_categories=categories_clean(block_ranking,category_dict_2)"
   ]
  },
  {
   "cell_type": "markdown",
   "metadata": {},
   "source": [
    "Then, it is created a function which creates a list whose elements are the nodes considered in each iteration."
   ]
  },
  {
   "cell_type": "code",
   "execution_count": 19,
   "metadata": {},
   "outputs": [
    {
     "data": {
      "application/vnd.jupyter.widget-view+json": {
       "model_id": "645d906b1787473784777a140d0bd388"
      }
     },
     "metadata": {},
     "output_type": "display_data"
    },
    {
     "name": "stdout",
     "output_type": "stream",
     "text": [
      "\n"
     ]
    }
   ],
   "source": [
    "# creation of lists with the nodes of the subgraph for each iteration \n",
    "steps=step_creation(filter_categories)"
   ]
  },
  {
   "cell_type": "markdown",
   "metadata": {},
   "source": [
    "It is created a function using the library <code>networkx</code> to order the elements of each category as it was described before. The function returns a list of dictionaries, where each list corresponds to a category of the block ranking."
   ]
  },
  {
   "cell_type": "code",
   "execution_count": 20,
   "metadata": {},
   "outputs": [
    {
     "data": {
      "application/vnd.jupyter.widget-view+json": {
       "model_id": "dd64080eb1b84b8c848e3859c4b11266"
      }
     },
     "metadata": {},
     "output_type": "display_data"
    },
    {
     "name": "stdout",
     "output_type": "stream",
     "text": [
      "\n"
     ]
    },
    {
     "data": {
      "application/vnd.jupyter.widget-view+json": {
       "model_id": "c0f6fdeb007f4d8bafe3ea0b0ccf2b39"
      }
     },
     "metadata": {},
     "output_type": "display_data"
    },
    {
     "data": {
      "application/vnd.jupyter.widget-view+json": {
       "model_id": "b87986d11d644f268b0950728eda65b2"
      }
     },
     "metadata": {},
     "output_type": "display_data"
    },
    {
     "data": {
      "application/vnd.jupyter.widget-view+json": {
       "model_id": "35c8536f240c4f029885f1786551d12c"
      }
     },
     "metadata": {},
     "output_type": "display_data"
    },
    {
     "data": {
      "application/vnd.jupyter.widget-view+json": {
       "model_id": "a04bbca22b214194b8a4a3c1277ffd5f"
      }
     },
     "metadata": {},
     "output_type": "display_data"
    },
    {
     "data": {
      "application/vnd.jupyter.widget-view+json": {
       "model_id": "0932b18e962d4328ac440ee69fb0d3a7"
      }
     },
     "metadata": {},
     "output_type": "display_data"
    },
    {
     "data": {
      "application/vnd.jupyter.widget-view+json": {
       "model_id": "6c42ba711be74742abbc017f6423f199"
      }
     },
     "metadata": {},
     "output_type": "display_data"
    },
    {
     "data": {
      "application/vnd.jupyter.widget-view+json": {
       "model_id": "3ca46721f0e6427887a49a239814c789"
      }
     },
     "metadata": {},
     "output_type": "display_data"
    },
    {
     "data": {
      "application/vnd.jupyter.widget-view+json": {
       "model_id": "8fe4d3dca3294d5b94bb88ad60af7396"
      }
     },
     "metadata": {},
     "output_type": "display_data"
    },
    {
     "data": {
      "application/vnd.jupyter.widget-view+json": {
       "model_id": "911dac917c4e4a04a1a6da2822c02544"
      }
     },
     "metadata": {},
     "output_type": "display_data"
    },
    {
     "data": {
      "application/vnd.jupyter.widget-view+json": {
       "model_id": "d17d6831d6104efd8fe99923483a8a93"
      }
     },
     "metadata": {},
     "output_type": "display_data"
    },
    {
     "data": {
      "application/vnd.jupyter.widget-view+json": {
       "model_id": "0e8ef2088bd74bc1bcca3c7308951469"
      }
     },
     "metadata": {},
     "output_type": "display_data"
    },
    {
     "data": {
      "application/vnd.jupyter.widget-view+json": {
       "model_id": "5072402557c146febfa579ce75c11e8b"
      }
     },
     "metadata": {},
     "output_type": "display_data"
    },
    {
     "data": {
      "application/vnd.jupyter.widget-view+json": {
       "model_id": "cd35d9b5d8af481f9bbb1cdaffdc27cc"
      }
     },
     "metadata": {},
     "output_type": "display_data"
    },
    {
     "data": {
      "application/vnd.jupyter.widget-view+json": {
       "model_id": "08fb04bf018c44e1b45fd2b1a64b0455"
      }
     },
     "metadata": {},
     "output_type": "display_data"
    },
    {
     "data": {
      "application/vnd.jupyter.widget-view+json": {
       "model_id": "807c04faa9994372ad3d0608bc03c3dc"
      }
     },
     "metadata": {},
     "output_type": "display_data"
    },
    {
     "data": {
      "application/vnd.jupyter.widget-view+json": {
       "model_id": "c7fb00f7bd1643afa7dd9b07b49855d2"
      }
     },
     "metadata": {},
     "output_type": "display_data"
    },
    {
     "data": {
      "application/vnd.jupyter.widget-view+json": {
       "model_id": "f3153642ad8142e59bb35eec0252317a"
      }
     },
     "metadata": {},
     "output_type": "display_data"
    },
    {
     "data": {
      "application/vnd.jupyter.widget-view+json": {
       "model_id": "6c6d4904a837461a949d6e16d983e28c"
      }
     },
     "metadata": {},
     "output_type": "display_data"
    },
    {
     "data": {
      "application/vnd.jupyter.widget-view+json": {
       "model_id": "cc082791e5d74c6eab08cbcc1050758e"
      }
     },
     "metadata": {},
     "output_type": "display_data"
    },
    {
     "data": {
      "application/vnd.jupyter.widget-view+json": {
       "model_id": "710484d50f2f40e290e750bac8c1fd20"
      }
     },
     "metadata": {},
     "output_type": "display_data"
    },
    {
     "data": {
      "application/vnd.jupyter.widget-view+json": {
       "model_id": "6081ce2c546a4d8493b958c1fcb81e4c"
      }
     },
     "metadata": {},
     "output_type": "display_data"
    },
    {
     "data": {
      "application/vnd.jupyter.widget-view+json": {
       "model_id": "0a8babc899d44d1a9376a57592eb5462"
      }
     },
     "metadata": {},
     "output_type": "display_data"
    },
    {
     "data": {
      "application/vnd.jupyter.widget-view+json": {
       "model_id": "3f056ea380dc4222be66fe139f1d6b60"
      }
     },
     "metadata": {},
     "output_type": "display_data"
    },
    {
     "data": {
      "application/vnd.jupyter.widget-view+json": {
       "model_id": "f75ee1f907624120bbdb32a0815ae9dc"
      }
     },
     "metadata": {},
     "output_type": "display_data"
    },
    {
     "data": {
      "application/vnd.jupyter.widget-view+json": {
       "model_id": "591e3bd40a47482199695bd326ededb5"
      }
     },
     "metadata": {},
     "output_type": "display_data"
    },
    {
     "data": {
      "application/vnd.jupyter.widget-view+json": {
       "model_id": "073b7d5d994c4ff99bf3bcd8069e8b9e"
      }
     },
     "metadata": {},
     "output_type": "display_data"
    },
    {
     "data": {
      "application/vnd.jupyter.widget-view+json": {
       "model_id": "37e0ad6aa1e648b58cbf0d42d0ea642c"
      }
     },
     "metadata": {},
     "output_type": "display_data"
    },
    {
     "data": {
      "application/vnd.jupyter.widget-view+json": {
       "model_id": "a063e7d064324960ab1a92330a774325"
      }
     },
     "metadata": {},
     "output_type": "display_data"
    },
    {
     "data": {
      "application/vnd.jupyter.widget-view+json": {
       "model_id": "dce25f622f3143b28217dcd960eacb0f"
      }
     },
     "metadata": {},
     "output_type": "display_data"
    },
    {
     "data": {
      "application/vnd.jupyter.widget-view+json": {
       "model_id": "e3f651d73ab54dbb8a74ce81261d8aa3"
      }
     },
     "metadata": {},
     "output_type": "display_data"
    },
    {
     "data": {
      "application/vnd.jupyter.widget-view+json": {
       "model_id": "689cce9f7e304388a6b00b070ea81f13"
      }
     },
     "metadata": {},
     "output_type": "display_data"
    },
    {
     "data": {
      "application/vnd.jupyter.widget-view+json": {
       "model_id": "6d8fcf50fba540dabcae84393a149830"
      }
     },
     "metadata": {},
     "output_type": "display_data"
    },
    {
     "data": {
      "application/vnd.jupyter.widget-view+json": {
       "model_id": "1a26f8c4a8bc4046afb92b8fbb4ad0e1"
      }
     },
     "metadata": {},
     "output_type": "display_data"
    },
    {
     "data": {
      "application/vnd.jupyter.widget-view+json": {
       "model_id": "e8b9572434564861bf914338bcafb4c2"
      }
     },
     "metadata": {},
     "output_type": "display_data"
    },
    {
     "data": {
      "application/vnd.jupyter.widget-view+json": {
       "model_id": "003dda519d964b24879a1176cdbc150c"
      }
     },
     "metadata": {},
     "output_type": "display_data"
    },
    {
     "data": {
      "application/vnd.jupyter.widget-view+json": {
       "model_id": "02ba97f66c0a4dc1bb85c61faa3ef24f"
      }
     },
     "metadata": {},
     "output_type": "display_data"
    },
    {
     "name": "stdout",
     "output_type": "stream",
     "text": [
      "\n"
     ]
    }
   ],
   "source": [
    "o=articles_order(m,filter_categories,steps)"
   ]
  },
  {
   "cell_type": "markdown",
   "metadata": {},
   "source": [
    "Then, it is created a nested list where each list is correspond to one category."
   ]
  },
  {
   "cell_type": "code",
   "execution_count": 38,
   "metadata": {
    "collapsed": true
   },
   "outputs": [],
   "source": [
    "#nested lists with ordered articles for each category\n",
    "E=[]\n",
    "for j in o:\n",
    "    E.append((OrderedDict(sorted(i.items(), key=lambda t: int(t[1]) ,reverse=True)).keys()))"
   ]
  },
  {
   "cell_type": "markdown",
   "metadata": {},
   "source": [
    "For instance, the 50 first elements of the category \"American films\" are shown below:"
   ]
  },
  {
   "cell_type": "code",
   "execution_count": 42,
   "metadata": {},
   "outputs": [
    {
     "name": "stdout",
     "output_type": "stream",
     "text": [
      "[1262180, 1740762, 1740619, 1739297, 1740671, 1740435, 1740381, 1740431, 1740516, 1740526, 1725394, 1740659, 1738462, 419627, 1790684, 633425, 1741121, 1740378, 1740596, 1740541, 1736009, 1738320, 1734576, 1735514, 1740751, 1740437, 1740171, 1738002, 1738056, 1740925, 1737948, 1738008, 1722395, 1738049, 1741189, 1740133, 1740760, 1741055, 1738031, 1731969, 1735175, 1747073, 1740752, 1740369, 1740559, 1736761, 1738291, 1738025, 351869, 1735730]\n"
     ]
    }
   ],
   "source": [
    "#50 elements of category \"American films\"\n",
    "print(list(E[5])[:50])"
   ]
  },
  {
   "cell_type": "markdown",
   "metadata": {},
   "source": [
    "Then all the ranks are merged to generate a general one."
   ]
  },
  {
   "cell_type": "code",
   "execution_count": 30,
   "metadata": {},
   "outputs": [],
   "source": [
    "#merge all the ranks\n",
    "D=[]\n",
    "for i in o:\n",
    "    # all articles ordered are included in a list\n",
    "    D.extend(OrderedDict(sorted(i.items(), key=lambda t: int(t[1]) ,reverse=True)).keys())"
   ]
  },
  {
   "cell_type": "markdown",
   "metadata": {},
   "source": [
    "The first 500 elements of the general rank are shown below."
   ]
  },
  {
   "cell_type": "code",
   "execution_count": 43,
   "metadata": {
    "scrolled": false
   },
   "outputs": [
    {
     "name": "stdout",
     "output_type": "stream",
     "text": [
      "[62684, 170163, 1656777, 1656780, 169696, 1656794, 170578, 1342864, 1343014, 1656778, 666855, 1342960, 1203095, 1203235, 1203496, 1779656, 174582, 1109348, 1109485, 159606, 159730, 159920, 1766063, 64632, 1344701, 34422, 1443739, 166284, 168001, 168145, 168251, 168258, 185120, 170158, 1203101, 170969, 170970, 170971, 170972, 170973, 1122762, 174427, 174439, 666857, 159750, 1765824, 1765831, 1765837, 62695, 1340874, 1342803, 1343206, 360595, 1344730, 1344821, 1656450, 1656452, 1656453, 1656455, 1443741, 1656779, 1656793, 1345946, 1345947, 167906, 167966, 168100, 168194, 201333, 186174, 186176, 170536, 1203043, 1203247, 171344, 171410, 171660, 958429, 958480, 172050, 1319048, 1122603, 1122605, 156307, 173221, 173671, 1779795, 1779800, 174428, 1190355, 60061, 175366, 1109359, 159614, 159736, 159749, 159753, 159754, 159766, 159914, 159934, 176367, 1765823, 1765832, 1765845, 1765848, 1684172, 324414, 1766449, 1766721, 456791, 1144930, 1341834, 883490, 748777, 1342852, 1342968, 1343059, 1343160, 65614, 245933, 836548, 1344690, 1344732, 1344733, 1344801, 460208, 1656449, 1656548, 1443740, 1443743, 1346000, 1346001, 1346004, 1346006, 182762, 1346041, 166516, 166527, 166831, 134400, 167920, 167938, 167945, 168098, 168102, 168136, 168142, 168239, 168242, 168244, 168250, 168341, 184927, 201330, 201331, 184975, 349032, 349035, 168876, 168877, 218241, 169119, 1119495, 1119499, 185814, 185818, 186141, 530366, 170098, 170161, 170177, 170187, 170449, 170573, 1202924, 1203019, 1203042, 1776512, 1776513, 23469, 1203138, 1678301, 1203213, 171065, 171455, 171666, 171764, 958242, 172074, 1122394, 1663112, 1663114, 1122526, 1122629, 1122640, 1122677, 1122739, 1122750, 156306, 172766, 172882, 172883, 173007, 697371, 173220, 435391, 435395, 1517046, 173641, 173680, 1550155, 173988, 1779640, 174014, 1779790, 1779828, 1779833, 1779857, 1779925, 174353, 1780041, 174435, 1780117, 1780133, 174502, 1780165, 1190352, 1190359, 1190363, 1190369, 174629, 60257, 1469352, 748774, 748775, 666853, 666862, 666863, 666870, 666871, 617764, 1142077, 1109344, 1109360, 1109362, 175636, 618032, 618041, 1109563, 618049, 618099, 618101, 618104, 618105, 618106, 618107, 618123, 438046, 438047, 1781716, 1781720, 159735, 159743, 159745, 159751, 159758, 159761, 159775, 159780, 159787, 159793, 159794, 159812, 159863, 159896, 159932, 176368, 176369, 176392, 1421757, 1421759, 1421760, 1765822, 1765834, 1765835, 45522, 45524, 1765839, 1765846, 61936, 61937, 1765950, 1765991, 324303, 45948, 45950, 45952, 1143908, 1766522, 1766523, 62616, 62697, 62698, 62833, 1340870, 1340974, 1340978, 620319, 620320, 1144720, 1144723, 161849, 161973, 358957, 883488, 211867, 211868, 195851, 1342820, 1342834, 1342880, 1342890, 1342898, 1342910, 769506, 1342983, 196158, 1343103, 196236, 196241, 180061, 360402, 213014, 360545, 360549, 360604, 1753343, 1261835, 360993, 836518, 836547, 410586, 410589, 836580, 164891, 1344583, 623762, 623763, 1344679, 1344687, 1344689, 1344763, 1344770, 1344803, 1344818, 1344834, 181583, 836991, 460209, 460214, 1656246, 1656276, 1344981, 460269, 460270, 1656372, 1656431, 34424, 34425, 1656444, 460471, 460472, 1656546, 1656547, 1656549, 1656555, 1656563, 1656575, 1656576, 395013, 231202, 1656709, 1132425, 1656724, 1443738, 1656762, 1116091, 1116092, 34762, 1656792, 1656802, 1656806, 1656823, 1656847, 1656857, 1656870, 1689641, 1689642, 1656886, 165957, 1656907, 1656909, 165966, 215122, 165976, 34909, 1656946, 1411349, 1411350, 1345900, 1345904, 1345917, 1345938, 166339, 1346003, 182761, 1346039, 166392, 1346040, 215551, 166402, 182807, 215630, 215633, 166521, 166524, 166526, 166529, 166538, 166558, 166560, 1116863, 166816, 166832, 166890, 953683, 413030, 413031, 888207, 331404, 954050, 970463, 167751, 167775, 167778, 348005, 348006, 167921, 167930, 167931, 954371, 954383, 167970, 168012, 168079, 168107, 168118, 168120, 168161, 168195, 168219, 1691945, 1691952, 168256, 168261, 168297, 364923, 168338, 168353, 512430, 659898, 545323, 545354, 184929, 184946, 184948, 201334, 201339, 201340, 184969, 791339, 168769, 414548, 365406, 349029, 168864, 168875, 168979, 185395, 545861, 218209, 218213, 1479796, 1479797, 169123, 971949, 185804, 939481, 939482]\n"
     ]
    }
   ],
   "source": [
    "print(D[:500])"
   ]
  }
 ],
 "metadata": {
  "kernelspec": {
   "display_name": "Python 3",
   "language": "python",
   "name": "python3"
  },
  "language_info": {
   "codemirror_mode": {
    "name": "ipython",
    "version": 3
   },
   "file_extension": ".py",
   "mimetype": "text/x-python",
   "name": "python",
   "nbconvert_exporter": "python",
   "pygments_lexer": "ipython3",
   "version": "3.6.1"
  }
 },
 "nbformat": 4,
 "nbformat_minor": 2
}
